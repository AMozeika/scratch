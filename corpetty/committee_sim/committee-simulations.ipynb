{
 "cells": [
  {
   "cell_type": "code",
   "execution_count": 1,
   "id": "b01c279a-cd3f-4e6f-a7ba-fca8d1f42804",
   "metadata": {},
   "outputs": [],
   "source": [
    "import random\n",
    "import pandas as pd\n",
    "from binarytree import Node, build\n",
    "import numpy as np\n",
    "import scipy as sp\n",
    "import chart_studio.plotly as py\n",
    "import plotly.graph_objects as go\n",
    "from ipywidgets import widgets"
   ]
  },
  {
   "cell_type": "markdown",
   "id": "53cc43b6-051f-43fb-8195-6a753ab74cf1",
   "metadata": {},
   "source": [
    "LogosBFT works by partitioning the nodes into equally-sized committees, then forming a binary tree structure from those committees. A primary (or leader) then partitions the propposed data to be verified via erasure coding techniques (fountain or raptor codes) and distributes it through the tree.\n",
    "\n",
    "This notebook is an attempt to simulate various structures and their respective consequences w.r.t. bandwidth, byzantine behavior, latency, etc. \n",
    "\n",
    "The general process can be described by the following:\n",
    "- Get Random Seed (Blackboxed here)\n",
    "- Form Overlay\n",
    "    - Initial Committee Assignment\n",
    "    - Overlay Tree Structure Formation\n",
    "    - Parent <--> Child Assignment\n",
    "- Leader Selection (Blackboxed here)\n",
    "- Leader Forms Block Proposal (Blackboxed here)\n",
    "- Proposal Erasure Coding\n",
    "- Data Dissemination\n",
    "- Each Committee Forms Block Independently\n",
    "\n",
    "We'd like to track the following metrics:\n",
    "- total bandwidth for an individual node\n",
    "- total num of messages for an individual node\n",
    "- latency of block distribution throughout the network"
   ]
  },
  {
   "cell_type": "markdown",
   "id": "2b3761fe-d4dc-438f-8cdb-dbfafeb3b6e5",
   "metadata": {},
   "source": [
    "## Globals definitions"
   ]
  },
  {
   "cell_type": "code",
   "execution_count": 2,
   "id": "4da35087-f815-4b88-99f8-04890b839beb",
   "metadata": {},
   "outputs": [],
   "source": [
    "num_nodes = 1550\n",
    "committee_size = 50\n",
    "num_committees = num_nodes / committee_size\n",
    "byzantine_coeff = 0.15\n",
    "max_time_delay = 60 # seconds\n",
    "block_size = 1 # MB"
   ]
  },
  {
   "cell_type": "code",
   "execution_count": null,
   "id": "7e6f86e6-c4a9-4cea-8448-05fcefdb81b5",
   "metadata": {},
   "outputs": [],
   "source": []
  },
  {
   "cell_type": "markdown",
   "id": "e1238929-cbe8-4f80-90c0-5823c6a5ddf6",
   "metadata": {},
   "source": [
    "# Form overlay\n",
    "\n"
   ]
  },
  {
   "cell_type": "markdown",
   "id": "14c20750-375a-410d-aa2b-1b97e17c2ef8",
   "metadata": {},
   "source": [
    "## Initial Committee Assignment"
   ]
  },
  {
   "cell_type": "code",
   "execution_count": 3,
   "id": "0bec3377-a302-4bbd-bcfc-3e9c40af51bb",
   "metadata": {
    "tags": []
   },
   "outputs": [],
   "source": [
    "def chunks(l, n):\n",
    "    \"\"\"Yield successive n-sized chunks from l.\"\"\"\n",
    "    for i in range(0, len(l), n):\n",
    "        yield l[i:i + n]\n",
    "\n",
    "random_node_list = [i for i in range(num_nodes)]\n",
    "random.shuffle(random_node_list)\n",
    "\n",
    "committee_list = list(chunks(random_node_list, committee_size))"
   ]
  },
  {
   "cell_type": "code",
   "execution_count": 4,
   "id": "e5917cca-9c2b-423d-b930-6fddfcdea47e",
   "metadata": {},
   "outputs": [
    {
     "data": {
      "text/html": [
       "<div>\n",
       "<style scoped>\n",
       "    .dataframe tbody tr th:only-of-type {\n",
       "        vertical-align: middle;\n",
       "    }\n",
       "\n",
       "    .dataframe tbody tr th {\n",
       "        vertical-align: top;\n",
       "    }\n",
       "\n",
       "    .dataframe thead th {\n",
       "        text-align: right;\n",
       "    }\n",
       "</style>\n",
       "<table border=\"1\" class=\"dataframe\">\n",
       "  <thead>\n",
       "    <tr style=\"text-align: right;\">\n",
       "      <th></th>\n",
       "      <th>committee_ind</th>\n",
       "      <th>committee_members</th>\n",
       "      <th>isChild</th>\n",
       "      <th>isParent</th>\n",
       "    </tr>\n",
       "  </thead>\n",
       "  <tbody>\n",
       "    <tr>\n",
       "      <th>0</th>\n",
       "      <td>0</td>\n",
       "      <td>[91, 776, 453, 1297, 479, 1398, 108, 286, 323,...</td>\n",
       "      <td>False</td>\n",
       "      <td>True</td>\n",
       "    </tr>\n",
       "    <tr>\n",
       "      <th>1</th>\n",
       "      <td>1</td>\n",
       "      <td>[402, 900, 1244, 334, 1286, 658, 1442, 529, 29...</td>\n",
       "      <td>True</td>\n",
       "      <td>True</td>\n",
       "    </tr>\n",
       "    <tr>\n",
       "      <th>2</th>\n",
       "      <td>2</td>\n",
       "      <td>[1478, 1250, 533, 474, 868, 940, 599, 677, 135...</td>\n",
       "      <td>True</td>\n",
       "      <td>True</td>\n",
       "    </tr>\n",
       "    <tr>\n",
       "      <th>3</th>\n",
       "      <td>3</td>\n",
       "      <td>[855, 1454, 109, 1282, 1133, 1482, 1508, 1174,...</td>\n",
       "      <td>True</td>\n",
       "      <td>True</td>\n",
       "    </tr>\n",
       "    <tr>\n",
       "      <th>4</th>\n",
       "      <td>4</td>\n",
       "      <td>[996, 1536, 897, 903, 552, 902, 789, 1201, 125...</td>\n",
       "      <td>True</td>\n",
       "      <td>True</td>\n",
       "    </tr>\n",
       "  </tbody>\n",
       "</table>\n",
       "</div>"
      ],
      "text/plain": [
       "   committee_ind                                  committee_members  isChild  \\\n",
       "0              0  [91, 776, 453, 1297, 479, 1398, 108, 286, 323,...    False   \n",
       "1              1  [402, 900, 1244, 334, 1286, 658, 1442, 529, 29...     True   \n",
       "2              2  [1478, 1250, 533, 474, 868, 940, 599, 677, 135...     True   \n",
       "3              3  [855, 1454, 109, 1282, 1133, 1482, 1508, 1174,...     True   \n",
       "4              4  [996, 1536, 897, 903, 552, 902, 789, 1201, 125...     True   \n",
       "\n",
       "   isParent  \n",
       "0      True  \n",
       "1      True  \n",
       "2      True  \n",
       "3      True  \n",
       "4      True  "
      ]
     },
     "execution_count": 4,
     "metadata": {},
     "output_type": "execute_result"
    }
   ],
   "source": [
    "# Create DataFrame of committee assignments and their index\n",
    "committee_df = pd.DataFrame(\n",
    "    [{\"committee_ind\": ind, \n",
    "      \"committee_members\": committee}\n",
    "     for ind, committee in enumerate(committee_list)])\n",
    "committee_df[\"isChild\"] = [row['committee_ind'] != 0 for ind, row in committee_df.iterrows()]\n",
    "committee_df[\"isParent\"] = [row['committee_ind'] != num_committees -1 for ind, row in committee_df.iterrows()]\n",
    "committee_df.head()"
   ]
  },
  {
   "cell_type": "code",
   "execution_count": 5,
   "id": "903154d0-9cc0-4e96-9c07-6fba378eb063",
   "metadata": {},
   "outputs": [
    {
     "name": "stdout",
     "output_type": "stream",
     "text": [
      "50\n",
      "50\n",
      "50\n",
      "50\n",
      "50\n",
      "50\n",
      "50\n",
      "50\n",
      "50\n",
      "50\n",
      "50\n",
      "50\n",
      "50\n",
      "50\n",
      "50\n",
      "50\n",
      "50\n",
      "50\n",
      "50\n",
      "50\n",
      "50\n",
      "50\n",
      "50\n",
      "50\n",
      "50\n",
      "50\n",
      "50\n",
      "50\n",
      "50\n",
      "50\n",
      "50\n"
     ]
    }
   ],
   "source": [
    "# Sanity check that all buckets are the same (or close) in size\n",
    "for committee in committee_df[\"committee_members\"].values:\n",
    "    print(len(committee))"
   ]
  },
  {
   "cell_type": "markdown",
   "id": "d3a9986e-7720-43b2-94fb-b4c6b8b43a05",
   "metadata": {},
   "source": [
    "## Form Overlay Tree Structure"
   ]
  },
  {
   "cell_type": "code",
   "execution_count": 6,
   "id": "7f302667-e6c4-4f9b-8db7-d631e782401f",
   "metadata": {},
   "outputs": [],
   "source": [
    "committee_list = [int(value) for value in committee_df['committee_ind'].values]"
   ]
  },
  {
   "cell_type": "code",
   "execution_count": 7,
   "id": "6c921de0-eb56-4906-aad9-91dbf54826d7",
   "metadata": {},
   "outputs": [],
   "source": [
    "overlay = build(committee_list)"
   ]
  },
  {
   "cell_type": "code",
   "execution_count": 8,
   "id": "1fcec2f7-7c33-497a-ac6b-8c91aa2a3369",
   "metadata": {},
   "outputs": [
    {
     "data": {
      "image/svg+xml": [
       "<?xml version=\"1.0\" encoding=\"UTF-8\" standalone=\"no\"?>\n",
       "<!DOCTYPE svg PUBLIC \"-//W3C//DTD SVG 1.1//EN\"\n",
       " \"http://www.w3.org/Graphics/SVG/1.1/DTD/svg11.dtd\">\n",
       "<!-- Generated by graphviz version 2.43.0 (0)\n",
       " -->\n",
       "<!-- Title: %3 Pages: 1 -->\n",
       "<svg width=\"1510pt\" height=\"337pt\"\n",
       " viewBox=\"0.00 0.00 1510.00 337.00\" xmlns=\"http://www.w3.org/2000/svg\" xmlns:xlink=\"http://www.w3.org/1999/xlink\">\n",
       "<g id=\"graph0\" class=\"graph\" transform=\"scale(1 1) rotate(0) translate(4 333)\">\n",
       "<title>%3</title>\n",
       "<polygon fill=\"white\" stroke=\"transparent\" points=\"-4,4 -4,-333 1506,-333 1506,4 -4,4\"/>\n",
       "<!-- 139882925622752 -->\n",
       "<g id=\"node1\" class=\"node\">\n",
       "<title>139882925622752</title>\n",
       "<path fill=\"lightgray\" stroke=\"lightgray\" d=\"M728.5,-292.5C728.5,-292.5 772.5,-292.5 772.5,-292.5 778.5,-292.5 784.5,-298.5 784.5,-304.5 784.5,-304.5 784.5,-316.5 784.5,-316.5 784.5,-322.5 778.5,-328.5 772.5,-328.5 772.5,-328.5 728.5,-328.5 728.5,-328.5 722.5,-328.5 716.5,-322.5 716.5,-316.5 716.5,-316.5 716.5,-304.5 716.5,-304.5 716.5,-298.5 722.5,-292.5 728.5,-292.5\"/>\n",
       "<text text-anchor=\"middle\" x=\"727\" y=\"-306.8\" font-family=\"Times,serif\" font-size=\"14.00\"> </text>\n",
       "<polyline fill=\"none\" stroke=\"lightgray\" points=\"737.5,-292.5 737.5,-328.5 \"/>\n",
       "<text text-anchor=\"middle\" x=\"750.5\" y=\"-306.8\" font-family=\"Times,serif\" font-size=\"14.00\">0</text>\n",
       "<polyline fill=\"none\" stroke=\"lightgray\" points=\"763.5,-292.5 763.5,-328.5 \"/>\n",
       "<text text-anchor=\"middle\" x=\"774\" y=\"-306.8\" font-family=\"Times,serif\" font-size=\"14.00\"> </text>\n",
       "</g>\n",
       "<!-- 139882925623088 -->\n",
       "<g id=\"node2\" class=\"node\">\n",
       "<title>139882925623088</title>\n",
       "<path fill=\"lightgray\" stroke=\"lightgray\" d=\"M516.5,-219.5C516.5,-219.5 560.5,-219.5 560.5,-219.5 566.5,-219.5 572.5,-225.5 572.5,-231.5 572.5,-231.5 572.5,-243.5 572.5,-243.5 572.5,-249.5 566.5,-255.5 560.5,-255.5 560.5,-255.5 516.5,-255.5 516.5,-255.5 510.5,-255.5 504.5,-249.5 504.5,-243.5 504.5,-243.5 504.5,-231.5 504.5,-231.5 504.5,-225.5 510.5,-219.5 516.5,-219.5\"/>\n",
       "<text text-anchor=\"middle\" x=\"515\" y=\"-233.8\" font-family=\"Times,serif\" font-size=\"14.00\"> </text>\n",
       "<polyline fill=\"none\" stroke=\"lightgray\" points=\"525.5,-219.5 525.5,-255.5 \"/>\n",
       "<text text-anchor=\"middle\" x=\"538.5\" y=\"-233.8\" font-family=\"Times,serif\" font-size=\"14.00\">1</text>\n",
       "<polyline fill=\"none\" stroke=\"lightgray\" points=\"551.5,-219.5 551.5,-255.5 \"/>\n",
       "<text text-anchor=\"middle\" x=\"562\" y=\"-233.8\" font-family=\"Times,serif\" font-size=\"14.00\"> </text>\n",
       "</g>\n",
       "<!-- 139882925622752&#45;&gt;139882925623088 -->\n",
       "<g id=\"edge1\" class=\"edge\">\n",
       "<title>139882925622752:l&#45;&gt;139882925623088:v</title>\n",
       "<path fill=\"none\" stroke=\"black\" d=\"M715.5,-310.5C677.88,-310.5 561.15,-299.35 541.36,-266\"/>\n",
       "<polygon fill=\"black\" stroke=\"black\" points=\"544.62,-264.65 538.5,-256 537.89,-266.58 544.62,-264.65\"/>\n",
       "</g>\n",
       "<!-- 139882925622848 -->\n",
       "<g id=\"node3\" class=\"node\">\n",
       "<title>139882925622848</title>\n",
       "<path fill=\"lightgray\" stroke=\"lightgray\" d=\"M942.5,-219.5C942.5,-219.5 986.5,-219.5 986.5,-219.5 992.5,-219.5 998.5,-225.5 998.5,-231.5 998.5,-231.5 998.5,-243.5 998.5,-243.5 998.5,-249.5 992.5,-255.5 986.5,-255.5 986.5,-255.5 942.5,-255.5 942.5,-255.5 936.5,-255.5 930.5,-249.5 930.5,-243.5 930.5,-243.5 930.5,-231.5 930.5,-231.5 930.5,-225.5 936.5,-219.5 942.5,-219.5\"/>\n",
       "<text text-anchor=\"middle\" x=\"941\" y=\"-233.8\" font-family=\"Times,serif\" font-size=\"14.00\"> </text>\n",
       "<polyline fill=\"none\" stroke=\"lightgray\" points=\"951.5,-219.5 951.5,-255.5 \"/>\n",
       "<text text-anchor=\"middle\" x=\"964.5\" y=\"-233.8\" font-family=\"Times,serif\" font-size=\"14.00\">2</text>\n",
       "<polyline fill=\"none\" stroke=\"lightgray\" points=\"977.5,-219.5 977.5,-255.5 \"/>\n",
       "<text text-anchor=\"middle\" x=\"988\" y=\"-233.8\" font-family=\"Times,serif\" font-size=\"14.00\"> </text>\n",
       "</g>\n",
       "<!-- 139882925622752&#45;&gt;139882925622848 -->\n",
       "<g id=\"edge2\" class=\"edge\">\n",
       "<title>139882925622752:r&#45;&gt;139882925622848:v</title>\n",
       "<path fill=\"none\" stroke=\"black\" d=\"M785.5,-310.5C823.67,-310.5 942.6,-299.61 961.85,-265.66\"/>\n",
       "<polygon fill=\"black\" stroke=\"black\" points=\"965.24,-266.57 964.5,-256 958.48,-264.72 965.24,-266.57\"/>\n",
       "</g>\n",
       "<!-- 139882925622080 -->\n",
       "<g id=\"node4\" class=\"node\">\n",
       "<title>139882925622080</title>\n",
       "<path fill=\"lightgray\" stroke=\"lightgray\" d=\"M230.5,-146.5C230.5,-146.5 274.5,-146.5 274.5,-146.5 280.5,-146.5 286.5,-152.5 286.5,-158.5 286.5,-158.5 286.5,-170.5 286.5,-170.5 286.5,-176.5 280.5,-182.5 274.5,-182.5 274.5,-182.5 230.5,-182.5 230.5,-182.5 224.5,-182.5 218.5,-176.5 218.5,-170.5 218.5,-170.5 218.5,-158.5 218.5,-158.5 218.5,-152.5 224.5,-146.5 230.5,-146.5\"/>\n",
       "<text text-anchor=\"middle\" x=\"229\" y=\"-160.8\" font-family=\"Times,serif\" font-size=\"14.00\"> </text>\n",
       "<polyline fill=\"none\" stroke=\"lightgray\" points=\"239.5,-146.5 239.5,-182.5 \"/>\n",
       "<text text-anchor=\"middle\" x=\"252.5\" y=\"-160.8\" font-family=\"Times,serif\" font-size=\"14.00\">3</text>\n",
       "<polyline fill=\"none\" stroke=\"lightgray\" points=\"265.5,-146.5 265.5,-182.5 \"/>\n",
       "<text text-anchor=\"middle\" x=\"276\" y=\"-160.8\" font-family=\"Times,serif\" font-size=\"14.00\"> </text>\n",
       "</g>\n",
       "<!-- 139882925623088&#45;&gt;139882925622080 -->\n",
       "<g id=\"edge3\" class=\"edge\">\n",
       "<title>139882925623088:l&#45;&gt;139882925622080:v</title>\n",
       "<path fill=\"none\" stroke=\"black\" d=\"M503.5,-237.5C477.75,-237.5 294.1,-216.36 258.48,-191.27\"/>\n",
       "<polygon fill=\"black\" stroke=\"black\" points=\"261.2,-189.05 252.5,-183 255.52,-193.15 261.2,-189.05\"/>\n",
       "</g>\n",
       "<!-- 139882925623136 -->\n",
       "<g id=\"node5\" class=\"node\">\n",
       "<title>139882925623136</title>\n",
       "<path fill=\"lightgray\" stroke=\"lightgray\" d=\"M540.5,-146.5C540.5,-146.5 584.5,-146.5 584.5,-146.5 590.5,-146.5 596.5,-152.5 596.5,-158.5 596.5,-158.5 596.5,-170.5 596.5,-170.5 596.5,-176.5 590.5,-182.5 584.5,-182.5 584.5,-182.5 540.5,-182.5 540.5,-182.5 534.5,-182.5 528.5,-176.5 528.5,-170.5 528.5,-170.5 528.5,-158.5 528.5,-158.5 528.5,-152.5 534.5,-146.5 540.5,-146.5\"/>\n",
       "<text text-anchor=\"middle\" x=\"539\" y=\"-160.8\" font-family=\"Times,serif\" font-size=\"14.00\"> </text>\n",
       "<polyline fill=\"none\" stroke=\"lightgray\" points=\"549.5,-146.5 549.5,-182.5 \"/>\n",
       "<text text-anchor=\"middle\" x=\"562.5\" y=\"-160.8\" font-family=\"Times,serif\" font-size=\"14.00\">4</text>\n",
       "<polyline fill=\"none\" stroke=\"lightgray\" points=\"575.5,-146.5 575.5,-182.5 \"/>\n",
       "<text text-anchor=\"middle\" x=\"586\" y=\"-160.8\" font-family=\"Times,serif\" font-size=\"14.00\"> </text>\n",
       "</g>\n",
       "<!-- 139882925623088&#45;&gt;139882925623136 -->\n",
       "<g id=\"edge4\" class=\"edge\">\n",
       "<title>139882925623088:r&#45;&gt;139882925623136:v</title>\n",
       "<path fill=\"none\" stroke=\"black\" d=\"M562.5,-219C562.5,-207 562.5,-201.75 562.5,-193.12\"/>\n",
       "<polygon fill=\"black\" stroke=\"black\" points=\"566,-193 562.5,-183 559,-193 566,-193\"/>\n",
       "</g>\n",
       "<!-- 139882925623856 -->\n",
       "<g id=\"node6\" class=\"node\">\n",
       "<title>139882925623856</title>\n",
       "<path fill=\"lightgray\" stroke=\"lightgray\" d=\"M918.5,-146.5C918.5,-146.5 962.5,-146.5 962.5,-146.5 968.5,-146.5 974.5,-152.5 974.5,-158.5 974.5,-158.5 974.5,-170.5 974.5,-170.5 974.5,-176.5 968.5,-182.5 962.5,-182.5 962.5,-182.5 918.5,-182.5 918.5,-182.5 912.5,-182.5 906.5,-176.5 906.5,-170.5 906.5,-170.5 906.5,-158.5 906.5,-158.5 906.5,-152.5 912.5,-146.5 918.5,-146.5\"/>\n",
       "<text text-anchor=\"middle\" x=\"917\" y=\"-160.8\" font-family=\"Times,serif\" font-size=\"14.00\"> </text>\n",
       "<polyline fill=\"none\" stroke=\"lightgray\" points=\"927.5,-146.5 927.5,-182.5 \"/>\n",
       "<text text-anchor=\"middle\" x=\"940.5\" y=\"-160.8\" font-family=\"Times,serif\" font-size=\"14.00\">5</text>\n",
       "<polyline fill=\"none\" stroke=\"lightgray\" points=\"953.5,-146.5 953.5,-182.5 \"/>\n",
       "<text text-anchor=\"middle\" x=\"964\" y=\"-160.8\" font-family=\"Times,serif\" font-size=\"14.00\"> </text>\n",
       "</g>\n",
       "<!-- 139882925622848&#45;&gt;139882925623856 -->\n",
       "<g id=\"edge5\" class=\"edge\">\n",
       "<title>139882925622848:l&#45;&gt;139882925623856:v</title>\n",
       "<path fill=\"none\" stroke=\"black\" d=\"M940.5,-219C940.5,-207 940.5,-201.75 940.5,-193.12\"/>\n",
       "<polygon fill=\"black\" stroke=\"black\" points=\"944,-193 940.5,-183 937,-193 944,-193\"/>\n",
       "</g>\n",
       "<!-- 139882925622416 -->\n",
       "<g id=\"node7\" class=\"node\">\n",
       "<title>139882925622416</title>\n",
       "<path fill=\"lightgray\" stroke=\"lightgray\" d=\"M1227.5,-146.5C1227.5,-146.5 1271.5,-146.5 1271.5,-146.5 1277.5,-146.5 1283.5,-152.5 1283.5,-158.5 1283.5,-158.5 1283.5,-170.5 1283.5,-170.5 1283.5,-176.5 1277.5,-182.5 1271.5,-182.5 1271.5,-182.5 1227.5,-182.5 1227.5,-182.5 1221.5,-182.5 1215.5,-176.5 1215.5,-170.5 1215.5,-170.5 1215.5,-158.5 1215.5,-158.5 1215.5,-152.5 1221.5,-146.5 1227.5,-146.5\"/>\n",
       "<text text-anchor=\"middle\" x=\"1226\" y=\"-160.8\" font-family=\"Times,serif\" font-size=\"14.00\"> </text>\n",
       "<polyline fill=\"none\" stroke=\"lightgray\" points=\"1236.5,-146.5 1236.5,-182.5 \"/>\n",
       "<text text-anchor=\"middle\" x=\"1249.5\" y=\"-160.8\" font-family=\"Times,serif\" font-size=\"14.00\">6</text>\n",
       "<polyline fill=\"none\" stroke=\"lightgray\" points=\"1262.5,-146.5 1262.5,-182.5 \"/>\n",
       "<text text-anchor=\"middle\" x=\"1273\" y=\"-160.8\" font-family=\"Times,serif\" font-size=\"14.00\"> </text>\n",
       "</g>\n",
       "<!-- 139882925622848&#45;&gt;139882925622416 -->\n",
       "<g id=\"edge6\" class=\"edge\">\n",
       "<title>139882925622848:r&#45;&gt;139882925622416:v</title>\n",
       "<path fill=\"none\" stroke=\"black\" d=\"M999.5,-237.5C1025.15,-237.5 1208.07,-216.27 1243.55,-191.24\"/>\n",
       "<polygon fill=\"black\" stroke=\"black\" points=\"1246.48,-193.16 1249.5,-183 1240.81,-189.06 1246.48,-193.16\"/>\n",
       "</g>\n",
       "<!-- 139882925622128 -->\n",
       "<g id=\"node8\" class=\"node\">\n",
       "<title>139882925622128</title>\n",
       "<path fill=\"lightgray\" stroke=\"lightgray\" d=\"M87.5,-73.5C87.5,-73.5 131.5,-73.5 131.5,-73.5 137.5,-73.5 143.5,-79.5 143.5,-85.5 143.5,-85.5 143.5,-97.5 143.5,-97.5 143.5,-103.5 137.5,-109.5 131.5,-109.5 131.5,-109.5 87.5,-109.5 87.5,-109.5 81.5,-109.5 75.5,-103.5 75.5,-97.5 75.5,-97.5 75.5,-85.5 75.5,-85.5 75.5,-79.5 81.5,-73.5 87.5,-73.5\"/>\n",
       "<text text-anchor=\"middle\" x=\"86\" y=\"-87.8\" font-family=\"Times,serif\" font-size=\"14.00\"> </text>\n",
       "<polyline fill=\"none\" stroke=\"lightgray\" points=\"96.5,-73.5 96.5,-109.5 \"/>\n",
       "<text text-anchor=\"middle\" x=\"109.5\" y=\"-87.8\" font-family=\"Times,serif\" font-size=\"14.00\">7</text>\n",
       "<polyline fill=\"none\" stroke=\"lightgray\" points=\"122.5,-73.5 122.5,-109.5 \"/>\n",
       "<text text-anchor=\"middle\" x=\"133\" y=\"-87.8\" font-family=\"Times,serif\" font-size=\"14.00\"> </text>\n",
       "</g>\n",
       "<!-- 139882925622080&#45;&gt;139882925622128 -->\n",
       "<g id=\"edge7\" class=\"edge\">\n",
       "<title>139882925622080:l&#45;&gt;139882925622128:v</title>\n",
       "<path fill=\"none\" stroke=\"black\" d=\"M217.5,-164.5C167.3,-164.5 116.7,-163.86 110.2,-120.02\"/>\n",
       "<polygon fill=\"black\" stroke=\"black\" points=\"113.69,-119.73 109.5,-110 106.71,-120.22 113.69,-119.73\"/>\n",
       "</g>\n",
       "<!-- 139882925624048 -->\n",
       "<g id=\"node9\" class=\"node\">\n",
       "<title>139882925624048</title>\n",
       "<path fill=\"lightgray\" stroke=\"lightgray\" d=\"M254.5,-73.5C254.5,-73.5 298.5,-73.5 298.5,-73.5 304.5,-73.5 310.5,-79.5 310.5,-85.5 310.5,-85.5 310.5,-97.5 310.5,-97.5 310.5,-103.5 304.5,-109.5 298.5,-109.5 298.5,-109.5 254.5,-109.5 254.5,-109.5 248.5,-109.5 242.5,-103.5 242.5,-97.5 242.5,-97.5 242.5,-85.5 242.5,-85.5 242.5,-79.5 248.5,-73.5 254.5,-73.5\"/>\n",
       "<text text-anchor=\"middle\" x=\"253\" y=\"-87.8\" font-family=\"Times,serif\" font-size=\"14.00\"> </text>\n",
       "<polyline fill=\"none\" stroke=\"lightgray\" points=\"263.5,-73.5 263.5,-109.5 \"/>\n",
       "<text text-anchor=\"middle\" x=\"276.5\" y=\"-87.8\" font-family=\"Times,serif\" font-size=\"14.00\">8</text>\n",
       "<polyline fill=\"none\" stroke=\"lightgray\" points=\"289.5,-73.5 289.5,-109.5 \"/>\n",
       "<text text-anchor=\"middle\" x=\"300\" y=\"-87.8\" font-family=\"Times,serif\" font-size=\"14.00\"> </text>\n",
       "</g>\n",
       "<!-- 139882925622080&#45;&gt;139882925624048 -->\n",
       "<g id=\"edge8\" class=\"edge\">\n",
       "<title>139882925622080:r&#45;&gt;139882925624048:v</title>\n",
       "<path fill=\"none\" stroke=\"black\" d=\"M276.5,-146C276.5,-134 276.5,-128.75 276.5,-120.12\"/>\n",
       "<polygon fill=\"black\" stroke=\"black\" points=\"280,-120 276.5,-110 273,-120 280,-120\"/>\n",
       "</g>\n",
       "<!-- 139881403056240 -->\n",
       "<g id=\"node10\" class=\"node\">\n",
       "<title>139881403056240</title>\n",
       "<path fill=\"lightgray\" stroke=\"lightgray\" d=\"M467.5,-73.5C467.5,-73.5 511.5,-73.5 511.5,-73.5 517.5,-73.5 523.5,-79.5 523.5,-85.5 523.5,-85.5 523.5,-97.5 523.5,-97.5 523.5,-103.5 517.5,-109.5 511.5,-109.5 511.5,-109.5 467.5,-109.5 467.5,-109.5 461.5,-109.5 455.5,-103.5 455.5,-97.5 455.5,-97.5 455.5,-85.5 455.5,-85.5 455.5,-79.5 461.5,-73.5 467.5,-73.5\"/>\n",
       "<text text-anchor=\"middle\" x=\"466\" y=\"-87.8\" font-family=\"Times,serif\" font-size=\"14.00\"> </text>\n",
       "<polyline fill=\"none\" stroke=\"lightgray\" points=\"476.5,-73.5 476.5,-109.5 \"/>\n",
       "<text text-anchor=\"middle\" x=\"489.5\" y=\"-87.8\" font-family=\"Times,serif\" font-size=\"14.00\">9</text>\n",
       "<polyline fill=\"none\" stroke=\"lightgray\" points=\"502.5,-73.5 502.5,-109.5 \"/>\n",
       "<text text-anchor=\"middle\" x=\"513\" y=\"-87.8\" font-family=\"Times,serif\" font-size=\"14.00\"> </text>\n",
       "</g>\n",
       "<!-- 139882925623136&#45;&gt;139881403056240 -->\n",
       "<g id=\"edge9\" class=\"edge\">\n",
       "<title>139882925623136:l&#45;&gt;139881403056240:v</title>\n",
       "<path fill=\"none\" stroke=\"black\" d=\"M538.5,-146C538.5,-123.2 503.62,-132.48 492.72,-119.71\"/>\n",
       "<polygon fill=\"black\" stroke=\"black\" points=\"495.97,-118.39 489.5,-110 489.32,-120.59 495.97,-118.39\"/>\n",
       "</g>\n",
       "<!-- 139881403056384 -->\n",
       "<g id=\"node11\" class=\"node\">\n",
       "<title>139881403056384</title>\n",
       "<path fill=\"lightgray\" stroke=\"lightgray\" d=\"M610,-73.5C610,-73.5 663,-73.5 663,-73.5 669,-73.5 675,-79.5 675,-85.5 675,-85.5 675,-97.5 675,-97.5 675,-103.5 669,-109.5 663,-109.5 663,-109.5 610,-109.5 610,-109.5 604,-109.5 598,-103.5 598,-97.5 598,-97.5 598,-85.5 598,-85.5 598,-79.5 604,-73.5 610,-73.5\"/>\n",
       "<text text-anchor=\"middle\" x=\"608.5\" y=\"-87.8\" font-family=\"Times,serif\" font-size=\"14.00\"> </text>\n",
       "<polyline fill=\"none\" stroke=\"lightgray\" points=\"619,-73.5 619,-109.5 \"/>\n",
       "<text text-anchor=\"middle\" x=\"636.5\" y=\"-87.8\" font-family=\"Times,serif\" font-size=\"14.00\">10</text>\n",
       "<polyline fill=\"none\" stroke=\"lightgray\" points=\"654,-73.5 654,-109.5 \"/>\n",
       "<text text-anchor=\"middle\" x=\"664.5\" y=\"-87.8\" font-family=\"Times,serif\" font-size=\"14.00\"> </text>\n",
       "</g>\n",
       "<!-- 139882925623136&#45;&gt;139881403056384 -->\n",
       "<g id=\"edge10\" class=\"edge\">\n",
       "<title>139882925623136:r&#45;&gt;139881403056384:v</title>\n",
       "<path fill=\"none\" stroke=\"black\" d=\"M586.5,-146C586.5,-122.9 622.1,-132.65 633.22,-119.81\"/>\n",
       "<polygon fill=\"black\" stroke=\"black\" points=\"636.65,-120.59 636.5,-110 630.01,-118.37 636.65,-120.59\"/>\n",
       "</g>\n",
       "<!-- 139881403056432 -->\n",
       "<g id=\"node12\" class=\"node\">\n",
       "<title>139881403056432</title>\n",
       "<path fill=\"lightgray\" stroke=\"lightgray\" d=\"M839,-73.5C839,-73.5 892,-73.5 892,-73.5 898,-73.5 904,-79.5 904,-85.5 904,-85.5 904,-97.5 904,-97.5 904,-103.5 898,-109.5 892,-109.5 892,-109.5 839,-109.5 839,-109.5 833,-109.5 827,-103.5 827,-97.5 827,-97.5 827,-85.5 827,-85.5 827,-79.5 833,-73.5 839,-73.5\"/>\n",
       "<text text-anchor=\"middle\" x=\"837.5\" y=\"-87.8\" font-family=\"Times,serif\" font-size=\"14.00\"> </text>\n",
       "<polyline fill=\"none\" stroke=\"lightgray\" points=\"848,-73.5 848,-109.5 \"/>\n",
       "<text text-anchor=\"middle\" x=\"865.5\" y=\"-87.8\" font-family=\"Times,serif\" font-size=\"14.00\">11</text>\n",
       "<polyline fill=\"none\" stroke=\"lightgray\" points=\"883,-73.5 883,-109.5 \"/>\n",
       "<text text-anchor=\"middle\" x=\"893.5\" y=\"-87.8\" font-family=\"Times,serif\" font-size=\"14.00\"> </text>\n",
       "</g>\n",
       "<!-- 139882925623856&#45;&gt;139881403056432 -->\n",
       "<g id=\"edge11\" class=\"edge\">\n",
       "<title>139882925623856:l&#45;&gt;139881403056432:v</title>\n",
       "<path fill=\"none\" stroke=\"black\" d=\"M916.5,-146C916.5,-122.37 879.52,-133 868.54,-119.54\"/>\n",
       "<polygon fill=\"black\" stroke=\"black\" points=\"871.87,-118.47 865.5,-110 865.2,-120.59 871.87,-118.47\"/>\n",
       "</g>\n",
       "<!-- 139881403056576 -->\n",
       "<g id=\"node13\" class=\"node\">\n",
       "<title>139881403056576</title>\n",
       "<path fill=\"lightgray\" stroke=\"lightgray\" d=\"M990,-73.5C990,-73.5 1043,-73.5 1043,-73.5 1049,-73.5 1055,-79.5 1055,-85.5 1055,-85.5 1055,-97.5 1055,-97.5 1055,-103.5 1049,-109.5 1043,-109.5 1043,-109.5 990,-109.5 990,-109.5 984,-109.5 978,-103.5 978,-97.5 978,-97.5 978,-85.5 978,-85.5 978,-79.5 984,-73.5 990,-73.5\"/>\n",
       "<text text-anchor=\"middle\" x=\"988.5\" y=\"-87.8\" font-family=\"Times,serif\" font-size=\"14.00\"> </text>\n",
       "<polyline fill=\"none\" stroke=\"lightgray\" points=\"999,-73.5 999,-109.5 \"/>\n",
       "<text text-anchor=\"middle\" x=\"1016.5\" y=\"-87.8\" font-family=\"Times,serif\" font-size=\"14.00\">12</text>\n",
       "<polyline fill=\"none\" stroke=\"lightgray\" points=\"1034,-73.5 1034,-109.5 \"/>\n",
       "<text text-anchor=\"middle\" x=\"1044.5\" y=\"-87.8\" font-family=\"Times,serif\" font-size=\"14.00\"> </text>\n",
       "</g>\n",
       "<!-- 139882925623856&#45;&gt;139881403056576 -->\n",
       "<g id=\"edge12\" class=\"edge\">\n",
       "<title>139882925623856:r&#45;&gt;139881403056576:v</title>\n",
       "<path fill=\"none\" stroke=\"black\" d=\"M964.5,-146C964.5,-122.06 1002.21,-133.17 1013.4,-119.64\"/>\n",
       "<polygon fill=\"black\" stroke=\"black\" points=\"1016.77,-120.59 1016.5,-110 1010.11,-118.45 1016.77,-120.59\"/>\n",
       "</g>\n",
       "<!-- 139881403056720 -->\n",
       "<g id=\"node14\" class=\"node\">\n",
       "<title>139881403056720</title>\n",
       "<path fill=\"lightgray\" stroke=\"lightgray\" d=\"M1199,-73.5C1199,-73.5 1252,-73.5 1252,-73.5 1258,-73.5 1264,-79.5 1264,-85.5 1264,-85.5 1264,-97.5 1264,-97.5 1264,-103.5 1258,-109.5 1252,-109.5 1252,-109.5 1199,-109.5 1199,-109.5 1193,-109.5 1187,-103.5 1187,-97.5 1187,-97.5 1187,-85.5 1187,-85.5 1187,-79.5 1193,-73.5 1199,-73.5\"/>\n",
       "<text text-anchor=\"middle\" x=\"1197.5\" y=\"-87.8\" font-family=\"Times,serif\" font-size=\"14.00\"> </text>\n",
       "<polyline fill=\"none\" stroke=\"lightgray\" points=\"1208,-73.5 1208,-109.5 \"/>\n",
       "<text text-anchor=\"middle\" x=\"1225.5\" y=\"-87.8\" font-family=\"Times,serif\" font-size=\"14.00\">13</text>\n",
       "<polyline fill=\"none\" stroke=\"lightgray\" points=\"1243,-73.5 1243,-109.5 \"/>\n",
       "<text text-anchor=\"middle\" x=\"1253.5\" y=\"-87.8\" font-family=\"Times,serif\" font-size=\"14.00\"> </text>\n",
       "</g>\n",
       "<!-- 139882925622416&#45;&gt;139881403056720 -->\n",
       "<g id=\"edge13\" class=\"edge\">\n",
       "<title>139882925622416:l&#45;&gt;139881403056720:v</title>\n",
       "<path fill=\"none\" stroke=\"black\" d=\"M1225.5,-146C1225.5,-134 1225.5,-128.75 1225.5,-120.12\"/>\n",
       "<polygon fill=\"black\" stroke=\"black\" points=\"1229,-120 1225.5,-110 1222,-120 1229,-120\"/>\n",
       "</g>\n",
       "<!-- 139881403056768 -->\n",
       "<g id=\"node15\" class=\"node\">\n",
       "<title>139881403056768</title>\n",
       "<path fill=\"lightgray\" stroke=\"lightgray\" d=\"M1370,-73.5C1370,-73.5 1423,-73.5 1423,-73.5 1429,-73.5 1435,-79.5 1435,-85.5 1435,-85.5 1435,-97.5 1435,-97.5 1435,-103.5 1429,-109.5 1423,-109.5 1423,-109.5 1370,-109.5 1370,-109.5 1364,-109.5 1358,-103.5 1358,-97.5 1358,-97.5 1358,-85.5 1358,-85.5 1358,-79.5 1364,-73.5 1370,-73.5\"/>\n",
       "<text text-anchor=\"middle\" x=\"1368.5\" y=\"-87.8\" font-family=\"Times,serif\" font-size=\"14.00\"> </text>\n",
       "<polyline fill=\"none\" stroke=\"lightgray\" points=\"1379,-73.5 1379,-109.5 \"/>\n",
       "<text text-anchor=\"middle\" x=\"1396.5\" y=\"-87.8\" font-family=\"Times,serif\" font-size=\"14.00\">14</text>\n",
       "<polyline fill=\"none\" stroke=\"lightgray\" points=\"1414,-73.5 1414,-109.5 \"/>\n",
       "<text text-anchor=\"middle\" x=\"1424.5\" y=\"-87.8\" font-family=\"Times,serif\" font-size=\"14.00\"> </text>\n",
       "</g>\n",
       "<!-- 139882925622416&#45;&gt;139881403056768 -->\n",
       "<g id=\"edge14\" class=\"edge\">\n",
       "<title>139882925622416:r&#45;&gt;139881403056768:v</title>\n",
       "<path fill=\"none\" stroke=\"black\" d=\"M1284.5,-164.5C1308.94,-164.5 1377.52,-143.6 1393.25,-119.65\"/>\n",
       "<polygon fill=\"black\" stroke=\"black\" points=\"1396.63,-120.59 1396.5,-110 1389.99,-118.36 1396.63,-120.59\"/>\n",
       "</g>\n",
       "<!-- 139881403056864 -->\n",
       "<g id=\"node16\" class=\"node\">\n",
       "<title>139881403056864</title>\n",
       "<path fill=\"lightgray\" stroke=\"lightgray\" d=\"M12,-0.5C12,-0.5 65,-0.5 65,-0.5 71,-0.5 77,-6.5 77,-12.5 77,-12.5 77,-24.5 77,-24.5 77,-30.5 71,-36.5 65,-36.5 65,-36.5 12,-36.5 12,-36.5 6,-36.5 0,-30.5 0,-24.5 0,-24.5 0,-12.5 0,-12.5 0,-6.5 6,-0.5 12,-0.5\"/>\n",
       "<text text-anchor=\"middle\" x=\"10.5\" y=\"-14.8\" font-family=\"Times,serif\" font-size=\"14.00\"> </text>\n",
       "<polyline fill=\"none\" stroke=\"lightgray\" points=\"21,-0.5 21,-36.5 \"/>\n",
       "<text text-anchor=\"middle\" x=\"38.5\" y=\"-14.8\" font-family=\"Times,serif\" font-size=\"14.00\">15</text>\n",
       "<polyline fill=\"none\" stroke=\"lightgray\" points=\"56,-0.5 56,-36.5 \"/>\n",
       "<text text-anchor=\"middle\" x=\"66.5\" y=\"-14.8\" font-family=\"Times,serif\" font-size=\"14.00\"> </text>\n",
       "</g>\n",
       "<!-- 139882925622128&#45;&gt;139881403056864 -->\n",
       "<g id=\"edge15\" class=\"edge\">\n",
       "<title>139882925622128:l&#45;&gt;139881403056864:v</title>\n",
       "<path fill=\"none\" stroke=\"black\" d=\"M85.5,-73C85.5,-50.8 52.04,-59.17 41.58,-46.52\"/>\n",
       "<polygon fill=\"black\" stroke=\"black\" points=\"44.91,-45.43 38.5,-37 38.25,-47.59 44.91,-45.43\"/>\n",
       "</g>\n",
       "<!-- 139881403056960 -->\n",
       "<g id=\"node17\" class=\"node\">\n",
       "<title>139881403056960</title>\n",
       "<path fill=\"lightgray\" stroke=\"lightgray\" d=\"M107,-0.5C107,-0.5 160,-0.5 160,-0.5 166,-0.5 172,-6.5 172,-12.5 172,-12.5 172,-24.5 172,-24.5 172,-30.5 166,-36.5 160,-36.5 160,-36.5 107,-36.5 107,-36.5 101,-36.5 95,-30.5 95,-24.5 95,-24.5 95,-12.5 95,-12.5 95,-6.5 101,-0.5 107,-0.5\"/>\n",
       "<text text-anchor=\"middle\" x=\"105.5\" y=\"-14.8\" font-family=\"Times,serif\" font-size=\"14.00\"> </text>\n",
       "<polyline fill=\"none\" stroke=\"lightgray\" points=\"116,-0.5 116,-36.5 \"/>\n",
       "<text text-anchor=\"middle\" x=\"133.5\" y=\"-14.8\" font-family=\"Times,serif\" font-size=\"14.00\">16</text>\n",
       "<polyline fill=\"none\" stroke=\"lightgray\" points=\"151,-0.5 151,-36.5 \"/>\n",
       "<text text-anchor=\"middle\" x=\"161.5\" y=\"-14.8\" font-family=\"Times,serif\" font-size=\"14.00\"> </text>\n",
       "</g>\n",
       "<!-- 139882925622128&#45;&gt;139881403056960 -->\n",
       "<g id=\"edge16\" class=\"edge\">\n",
       "<title>139882925622128:r&#45;&gt;139881403056960:v</title>\n",
       "<path fill=\"none\" stroke=\"black\" d=\"M133.5,-73C133.5,-61 133.5,-55.75 133.5,-47.12\"/>\n",
       "<polygon fill=\"black\" stroke=\"black\" points=\"137,-47 133.5,-37 130,-47 137,-47\"/>\n",
       "</g>\n",
       "<!-- 139881403057056 -->\n",
       "<g id=\"node18\" class=\"node\">\n",
       "<title>139881403057056</title>\n",
       "<path fill=\"lightgray\" stroke=\"lightgray\" d=\"M202,-0.5C202,-0.5 255,-0.5 255,-0.5 261,-0.5 267,-6.5 267,-12.5 267,-12.5 267,-24.5 267,-24.5 267,-30.5 261,-36.5 255,-36.5 255,-36.5 202,-36.5 202,-36.5 196,-36.5 190,-30.5 190,-24.5 190,-24.5 190,-12.5 190,-12.5 190,-6.5 196,-0.5 202,-0.5\"/>\n",
       "<text text-anchor=\"middle\" x=\"200.5\" y=\"-14.8\" font-family=\"Times,serif\" font-size=\"14.00\"> </text>\n",
       "<polyline fill=\"none\" stroke=\"lightgray\" points=\"211,-0.5 211,-36.5 \"/>\n",
       "<text text-anchor=\"middle\" x=\"228.5\" y=\"-14.8\" font-family=\"Times,serif\" font-size=\"14.00\">17</text>\n",
       "<polyline fill=\"none\" stroke=\"lightgray\" points=\"246,-0.5 246,-36.5 \"/>\n",
       "<text text-anchor=\"middle\" x=\"256.5\" y=\"-14.8\" font-family=\"Times,serif\" font-size=\"14.00\"> </text>\n",
       "</g>\n",
       "<!-- 139882925624048&#45;&gt;139881403057056 -->\n",
       "<g id=\"edge17\" class=\"edge\">\n",
       "<title>139882925624048:l&#45;&gt;139881403057056:v</title>\n",
       "<path fill=\"none\" stroke=\"black\" d=\"M252.5,-73C252.5,-57.83 237.56,-56.16 231.25,-46.68\"/>\n",
       "<polygon fill=\"black\" stroke=\"black\" points=\"234.6,-45.66 228.5,-37 227.87,-47.58 234.6,-45.66\"/>\n",
       "</g>\n",
       "<!-- 139881403057152 -->\n",
       "<g id=\"node19\" class=\"node\">\n",
       "<title>139881403057152</title>\n",
       "<path fill=\"lightgray\" stroke=\"lightgray\" d=\"M297,-0.5C297,-0.5 350,-0.5 350,-0.5 356,-0.5 362,-6.5 362,-12.5 362,-12.5 362,-24.5 362,-24.5 362,-30.5 356,-36.5 350,-36.5 350,-36.5 297,-36.5 297,-36.5 291,-36.5 285,-30.5 285,-24.5 285,-24.5 285,-12.5 285,-12.5 285,-6.5 291,-0.5 297,-0.5\"/>\n",
       "<text text-anchor=\"middle\" x=\"295.5\" y=\"-14.8\" font-family=\"Times,serif\" font-size=\"14.00\"> </text>\n",
       "<polyline fill=\"none\" stroke=\"lightgray\" points=\"306,-0.5 306,-36.5 \"/>\n",
       "<text text-anchor=\"middle\" x=\"323.5\" y=\"-14.8\" font-family=\"Times,serif\" font-size=\"14.00\">18</text>\n",
       "<polyline fill=\"none\" stroke=\"lightgray\" points=\"341,-0.5 341,-36.5 \"/>\n",
       "<text text-anchor=\"middle\" x=\"351.5\" y=\"-14.8\" font-family=\"Times,serif\" font-size=\"14.00\"> </text>\n",
       "</g>\n",
       "<!-- 139882925624048&#45;&gt;139881403057152 -->\n",
       "<g id=\"edge18\" class=\"edge\">\n",
       "<title>139882925624048:r&#45;&gt;139881403057152:v</title>\n",
       "<path fill=\"none\" stroke=\"black\" d=\"M300.5,-73C300.5,-58.17 314.54,-56.13 320.68,-46.89\"/>\n",
       "<polygon fill=\"black\" stroke=\"black\" points=\"324.12,-47.58 323.5,-37 317.39,-45.66 324.12,-47.58\"/>\n",
       "</g>\n",
       "<!-- 139881403057248 -->\n",
       "<g id=\"node20\" class=\"node\">\n",
       "<title>139881403057248</title>\n",
       "<path fill=\"lightgray\" stroke=\"lightgray\" d=\"M392,-0.5C392,-0.5 445,-0.5 445,-0.5 451,-0.5 457,-6.5 457,-12.5 457,-12.5 457,-24.5 457,-24.5 457,-30.5 451,-36.5 445,-36.5 445,-36.5 392,-36.5 392,-36.5 386,-36.5 380,-30.5 380,-24.5 380,-24.5 380,-12.5 380,-12.5 380,-6.5 386,-0.5 392,-0.5\"/>\n",
       "<text text-anchor=\"middle\" x=\"390.5\" y=\"-14.8\" font-family=\"Times,serif\" font-size=\"14.00\"> </text>\n",
       "<polyline fill=\"none\" stroke=\"lightgray\" points=\"401,-0.5 401,-36.5 \"/>\n",
       "<text text-anchor=\"middle\" x=\"418.5\" y=\"-14.8\" font-family=\"Times,serif\" font-size=\"14.00\">19</text>\n",
       "<polyline fill=\"none\" stroke=\"lightgray\" points=\"436,-0.5 436,-36.5 \"/>\n",
       "<text text-anchor=\"middle\" x=\"446.5\" y=\"-14.8\" font-family=\"Times,serif\" font-size=\"14.00\"> </text>\n",
       "</g>\n",
       "<!-- 139881403056240&#45;&gt;139881403057248 -->\n",
       "<g id=\"edge19\" class=\"edge\">\n",
       "<title>139881403056240:l&#45;&gt;139881403057248:v</title>\n",
       "<path fill=\"none\" stroke=\"black\" d=\"M465.5,-73C465.5,-50.8 432.04,-59.17 421.58,-46.52\"/>\n",
       "<polygon fill=\"black\" stroke=\"black\" points=\"424.91,-45.43 418.5,-37 418.25,-47.59 424.91,-45.43\"/>\n",
       "</g>\n",
       "<!-- 139881403057344 -->\n",
       "<g id=\"node21\" class=\"node\">\n",
       "<title>139881403057344</title>\n",
       "<path fill=\"lightgray\" stroke=\"lightgray\" d=\"M487,-0.5C487,-0.5 540,-0.5 540,-0.5 546,-0.5 552,-6.5 552,-12.5 552,-12.5 552,-24.5 552,-24.5 552,-30.5 546,-36.5 540,-36.5 540,-36.5 487,-36.5 487,-36.5 481,-36.5 475,-30.5 475,-24.5 475,-24.5 475,-12.5 475,-12.5 475,-6.5 481,-0.5 487,-0.5\"/>\n",
       "<text text-anchor=\"middle\" x=\"485.5\" y=\"-14.8\" font-family=\"Times,serif\" font-size=\"14.00\"> </text>\n",
       "<polyline fill=\"none\" stroke=\"lightgray\" points=\"496,-0.5 496,-36.5 \"/>\n",
       "<text text-anchor=\"middle\" x=\"513.5\" y=\"-14.8\" font-family=\"Times,serif\" font-size=\"14.00\">20</text>\n",
       "<polyline fill=\"none\" stroke=\"lightgray\" points=\"531,-0.5 531,-36.5 \"/>\n",
       "<text text-anchor=\"middle\" x=\"541.5\" y=\"-14.8\" font-family=\"Times,serif\" font-size=\"14.00\"> </text>\n",
       "</g>\n",
       "<!-- 139881403056240&#45;&gt;139881403057344 -->\n",
       "<g id=\"edge20\" class=\"edge\">\n",
       "<title>139881403056240:r&#45;&gt;139881403057344:v</title>\n",
       "<path fill=\"none\" stroke=\"black\" d=\"M513.5,-73C513.5,-61 513.5,-55.75 513.5,-47.12\"/>\n",
       "<polygon fill=\"black\" stroke=\"black\" points=\"517,-47 513.5,-37 510,-47 517,-47\"/>\n",
       "</g>\n",
       "<!-- 139881403057392 -->\n",
       "<g id=\"node22\" class=\"node\">\n",
       "<title>139881403057392</title>\n",
       "<path fill=\"lightgray\" stroke=\"lightgray\" d=\"M582,-0.5C582,-0.5 635,-0.5 635,-0.5 641,-0.5 647,-6.5 647,-12.5 647,-12.5 647,-24.5 647,-24.5 647,-30.5 641,-36.5 635,-36.5 635,-36.5 582,-36.5 582,-36.5 576,-36.5 570,-30.5 570,-24.5 570,-24.5 570,-12.5 570,-12.5 570,-6.5 576,-0.5 582,-0.5\"/>\n",
       "<text text-anchor=\"middle\" x=\"580.5\" y=\"-14.8\" font-family=\"Times,serif\" font-size=\"14.00\"> </text>\n",
       "<polyline fill=\"none\" stroke=\"lightgray\" points=\"591,-0.5 591,-36.5 \"/>\n",
       "<text text-anchor=\"middle\" x=\"608.5\" y=\"-14.8\" font-family=\"Times,serif\" font-size=\"14.00\">21</text>\n",
       "<polyline fill=\"none\" stroke=\"lightgray\" points=\"626,-0.5 626,-36.5 \"/>\n",
       "<text text-anchor=\"middle\" x=\"636.5\" y=\"-14.8\" font-family=\"Times,serif\" font-size=\"14.00\"> </text>\n",
       "</g>\n",
       "<!-- 139881403056384&#45;&gt;139881403057392 -->\n",
       "<g id=\"edge21\" class=\"edge\">\n",
       "<title>139881403056384:l&#45;&gt;139881403057392:v</title>\n",
       "<path fill=\"none\" stroke=\"black\" d=\"M608.5,-73C608.5,-61 608.5,-55.75 608.5,-47.12\"/>\n",
       "<polygon fill=\"black\" stroke=\"black\" points=\"612,-47 608.5,-37 605,-47 612,-47\"/>\n",
       "</g>\n",
       "<!-- 139881403057584 -->\n",
       "<g id=\"node23\" class=\"node\">\n",
       "<title>139881403057584</title>\n",
       "<path fill=\"lightgray\" stroke=\"lightgray\" d=\"M677,-0.5C677,-0.5 730,-0.5 730,-0.5 736,-0.5 742,-6.5 742,-12.5 742,-12.5 742,-24.5 742,-24.5 742,-30.5 736,-36.5 730,-36.5 730,-36.5 677,-36.5 677,-36.5 671,-36.5 665,-30.5 665,-24.5 665,-24.5 665,-12.5 665,-12.5 665,-6.5 671,-0.5 677,-0.5\"/>\n",
       "<text text-anchor=\"middle\" x=\"675.5\" y=\"-14.8\" font-family=\"Times,serif\" font-size=\"14.00\"> </text>\n",
       "<polyline fill=\"none\" stroke=\"lightgray\" points=\"686,-0.5 686,-36.5 \"/>\n",
       "<text text-anchor=\"middle\" x=\"703.5\" y=\"-14.8\" font-family=\"Times,serif\" font-size=\"14.00\">22</text>\n",
       "<polyline fill=\"none\" stroke=\"lightgray\" points=\"721,-0.5 721,-36.5 \"/>\n",
       "<text text-anchor=\"middle\" x=\"731.5\" y=\"-14.8\" font-family=\"Times,serif\" font-size=\"14.00\"> </text>\n",
       "</g>\n",
       "<!-- 139881403056384&#45;&gt;139881403057584 -->\n",
       "<g id=\"edge22\" class=\"edge\">\n",
       "<title>139881403056384:r&#45;&gt;139881403057584:v</title>\n",
       "<path fill=\"none\" stroke=\"black\" d=\"M664.5,-73C664.5,-53.65 690.74,-57.69 700.17,-46.75\"/>\n",
       "<polygon fill=\"black\" stroke=\"black\" points=\"703.59,-47.59 703.5,-37 696.96,-45.34 703.59,-47.59\"/>\n",
       "</g>\n",
       "<!-- 139881403057632 -->\n",
       "<g id=\"node24\" class=\"node\">\n",
       "<title>139881403057632</title>\n",
       "<path fill=\"lightgray\" stroke=\"lightgray\" d=\"M772,-0.5C772,-0.5 825,-0.5 825,-0.5 831,-0.5 837,-6.5 837,-12.5 837,-12.5 837,-24.5 837,-24.5 837,-30.5 831,-36.5 825,-36.5 825,-36.5 772,-36.5 772,-36.5 766,-36.5 760,-30.5 760,-24.5 760,-24.5 760,-12.5 760,-12.5 760,-6.5 766,-0.5 772,-0.5\"/>\n",
       "<text text-anchor=\"middle\" x=\"770.5\" y=\"-14.8\" font-family=\"Times,serif\" font-size=\"14.00\"> </text>\n",
       "<polyline fill=\"none\" stroke=\"lightgray\" points=\"781,-0.5 781,-36.5 \"/>\n",
       "<text text-anchor=\"middle\" x=\"798.5\" y=\"-14.8\" font-family=\"Times,serif\" font-size=\"14.00\">23</text>\n",
       "<polyline fill=\"none\" stroke=\"lightgray\" points=\"816,-0.5 816,-36.5 \"/>\n",
       "<text text-anchor=\"middle\" x=\"826.5\" y=\"-14.8\" font-family=\"Times,serif\" font-size=\"14.00\"> </text>\n",
       "</g>\n",
       "<!-- 139881403056432&#45;&gt;139881403057632 -->\n",
       "<g id=\"edge23\" class=\"edge\">\n",
       "<title>139881403056432:l&#45;&gt;139881403057632:v</title>\n",
       "<path fill=\"none\" stroke=\"black\" d=\"M837.5,-73C837.5,-53.65 811.26,-57.69 801.83,-46.75\"/>\n",
       "<polygon fill=\"black\" stroke=\"black\" points=\"805.04,-45.34 798.5,-37 798.41,-47.59 805.04,-45.34\"/>\n",
       "</g>\n",
       "<!-- 139881403057728 -->\n",
       "<g id=\"node25\" class=\"node\">\n",
       "<title>139881403057728</title>\n",
       "<path fill=\"lightgray\" stroke=\"lightgray\" d=\"M867,-0.5C867,-0.5 920,-0.5 920,-0.5 926,-0.5 932,-6.5 932,-12.5 932,-12.5 932,-24.5 932,-24.5 932,-30.5 926,-36.5 920,-36.5 920,-36.5 867,-36.5 867,-36.5 861,-36.5 855,-30.5 855,-24.5 855,-24.5 855,-12.5 855,-12.5 855,-6.5 861,-0.5 867,-0.5\"/>\n",
       "<text text-anchor=\"middle\" x=\"865.5\" y=\"-14.8\" font-family=\"Times,serif\" font-size=\"14.00\"> </text>\n",
       "<polyline fill=\"none\" stroke=\"lightgray\" points=\"876,-0.5 876,-36.5 \"/>\n",
       "<text text-anchor=\"middle\" x=\"893.5\" y=\"-14.8\" font-family=\"Times,serif\" font-size=\"14.00\">24</text>\n",
       "<polyline fill=\"none\" stroke=\"lightgray\" points=\"911,-0.5 911,-36.5 \"/>\n",
       "<text text-anchor=\"middle\" x=\"921.5\" y=\"-14.8\" font-family=\"Times,serif\" font-size=\"14.00\"> </text>\n",
       "</g>\n",
       "<!-- 139881403056432&#45;&gt;139881403057728 -->\n",
       "<g id=\"edge24\" class=\"edge\">\n",
       "<title>139881403056432:r&#45;&gt;139881403057728:v</title>\n",
       "<path fill=\"none\" stroke=\"black\" d=\"M893.5,-73C893.5,-61 893.5,-55.75 893.5,-47.12\"/>\n",
       "<polygon fill=\"black\" stroke=\"black\" points=\"897,-47 893.5,-37 890,-47 897,-47\"/>\n",
       "</g>\n",
       "<!-- 139881403057824 -->\n",
       "<g id=\"node26\" class=\"node\">\n",
       "<title>139881403057824</title>\n",
       "<path fill=\"lightgray\" stroke=\"lightgray\" d=\"M962,-0.5C962,-0.5 1015,-0.5 1015,-0.5 1021,-0.5 1027,-6.5 1027,-12.5 1027,-12.5 1027,-24.5 1027,-24.5 1027,-30.5 1021,-36.5 1015,-36.5 1015,-36.5 962,-36.5 962,-36.5 956,-36.5 950,-30.5 950,-24.5 950,-24.5 950,-12.5 950,-12.5 950,-6.5 956,-0.5 962,-0.5\"/>\n",
       "<text text-anchor=\"middle\" x=\"960.5\" y=\"-14.8\" font-family=\"Times,serif\" font-size=\"14.00\"> </text>\n",
       "<polyline fill=\"none\" stroke=\"lightgray\" points=\"971,-0.5 971,-36.5 \"/>\n",
       "<text text-anchor=\"middle\" x=\"988.5\" y=\"-14.8\" font-family=\"Times,serif\" font-size=\"14.00\">25</text>\n",
       "<polyline fill=\"none\" stroke=\"lightgray\" points=\"1006,-0.5 1006,-36.5 \"/>\n",
       "<text text-anchor=\"middle\" x=\"1016.5\" y=\"-14.8\" font-family=\"Times,serif\" font-size=\"14.00\"> </text>\n",
       "</g>\n",
       "<!-- 139881403056576&#45;&gt;139881403057824 -->\n",
       "<g id=\"edge25\" class=\"edge\">\n",
       "<title>139881403056576:l&#45;&gt;139881403057824:v</title>\n",
       "<path fill=\"none\" stroke=\"black\" d=\"M988.5,-73C988.5,-61 988.5,-55.75 988.5,-47.12\"/>\n",
       "<polygon fill=\"black\" stroke=\"black\" points=\"992,-47 988.5,-37 985,-47 992,-47\"/>\n",
       "</g>\n",
       "<!-- 139881403057968 -->\n",
       "<g id=\"node27\" class=\"node\">\n",
       "<title>139881403057968</title>\n",
       "<path fill=\"lightgray\" stroke=\"lightgray\" d=\"M1057,-0.5C1057,-0.5 1110,-0.5 1110,-0.5 1116,-0.5 1122,-6.5 1122,-12.5 1122,-12.5 1122,-24.5 1122,-24.5 1122,-30.5 1116,-36.5 1110,-36.5 1110,-36.5 1057,-36.5 1057,-36.5 1051,-36.5 1045,-30.5 1045,-24.5 1045,-24.5 1045,-12.5 1045,-12.5 1045,-6.5 1051,-0.5 1057,-0.5\"/>\n",
       "<text text-anchor=\"middle\" x=\"1055.5\" y=\"-14.8\" font-family=\"Times,serif\" font-size=\"14.00\"> </text>\n",
       "<polyline fill=\"none\" stroke=\"lightgray\" points=\"1066,-0.5 1066,-36.5 \"/>\n",
       "<text text-anchor=\"middle\" x=\"1083.5\" y=\"-14.8\" font-family=\"Times,serif\" font-size=\"14.00\">26</text>\n",
       "<polyline fill=\"none\" stroke=\"lightgray\" points=\"1101,-0.5 1101,-36.5 \"/>\n",
       "<text text-anchor=\"middle\" x=\"1111.5\" y=\"-14.8\" font-family=\"Times,serif\" font-size=\"14.00\"> </text>\n",
       "</g>\n",
       "<!-- 139881403056576&#45;&gt;139881403057968 -->\n",
       "<g id=\"edge26\" class=\"edge\">\n",
       "<title>139881403056576:r&#45;&gt;139881403057968:v</title>\n",
       "<path fill=\"none\" stroke=\"black\" d=\"M1044.5,-73C1044.5,-53.65 1070.74,-57.69 1080.17,-46.75\"/>\n",
       "<polygon fill=\"black\" stroke=\"black\" points=\"1083.59,-47.59 1083.5,-37 1076.96,-45.34 1083.59,-47.59\"/>\n",
       "</g>\n",
       "<!-- 139881403058016 -->\n",
       "<g id=\"node28\" class=\"node\">\n",
       "<title>139881403058016</title>\n",
       "<path fill=\"lightgray\" stroke=\"lightgray\" d=\"M1152,-0.5C1152,-0.5 1205,-0.5 1205,-0.5 1211,-0.5 1217,-6.5 1217,-12.5 1217,-12.5 1217,-24.5 1217,-24.5 1217,-30.5 1211,-36.5 1205,-36.5 1205,-36.5 1152,-36.5 1152,-36.5 1146,-36.5 1140,-30.5 1140,-24.5 1140,-24.5 1140,-12.5 1140,-12.5 1140,-6.5 1146,-0.5 1152,-0.5\"/>\n",
       "<text text-anchor=\"middle\" x=\"1150.5\" y=\"-14.8\" font-family=\"Times,serif\" font-size=\"14.00\"> </text>\n",
       "<polyline fill=\"none\" stroke=\"lightgray\" points=\"1161,-0.5 1161,-36.5 \"/>\n",
       "<text text-anchor=\"middle\" x=\"1178.5\" y=\"-14.8\" font-family=\"Times,serif\" font-size=\"14.00\">27</text>\n",
       "<polyline fill=\"none\" stroke=\"lightgray\" points=\"1196,-0.5 1196,-36.5 \"/>\n",
       "<text text-anchor=\"middle\" x=\"1206.5\" y=\"-14.8\" font-family=\"Times,serif\" font-size=\"14.00\"> </text>\n",
       "</g>\n",
       "<!-- 139881403056720&#45;&gt;139881403058016 -->\n",
       "<g id=\"edge27\" class=\"edge\">\n",
       "<title>139881403056720:l&#45;&gt;139881403058016:v</title>\n",
       "<path fill=\"none\" stroke=\"black\" d=\"M1197.5,-73C1197.5,-59.01 1186.13,-55.95 1180.98,-46.91\"/>\n",
       "<polygon fill=\"black\" stroke=\"black\" points=\"1184.33,-45.85 1178.5,-37 1177.54,-47.55 1184.33,-45.85\"/>\n",
       "</g>\n",
       "<!-- 139881403058112 -->\n",
       "<g id=\"node29\" class=\"node\">\n",
       "<title>139881403058112</title>\n",
       "<path fill=\"lightgray\" stroke=\"lightgray\" d=\"M1247,-0.5C1247,-0.5 1300,-0.5 1300,-0.5 1306,-0.5 1312,-6.5 1312,-12.5 1312,-12.5 1312,-24.5 1312,-24.5 1312,-30.5 1306,-36.5 1300,-36.5 1300,-36.5 1247,-36.5 1247,-36.5 1241,-36.5 1235,-30.5 1235,-24.5 1235,-24.5 1235,-12.5 1235,-12.5 1235,-6.5 1241,-0.5 1247,-0.5\"/>\n",
       "<text text-anchor=\"middle\" x=\"1245.5\" y=\"-14.8\" font-family=\"Times,serif\" font-size=\"14.00\"> </text>\n",
       "<polyline fill=\"none\" stroke=\"lightgray\" points=\"1256,-0.5 1256,-36.5 \"/>\n",
       "<text text-anchor=\"middle\" x=\"1273.5\" y=\"-14.8\" font-family=\"Times,serif\" font-size=\"14.00\">28</text>\n",
       "<polyline fill=\"none\" stroke=\"lightgray\" points=\"1291,-0.5 1291,-36.5 \"/>\n",
       "<text text-anchor=\"middle\" x=\"1301.5\" y=\"-14.8\" font-family=\"Times,serif\" font-size=\"14.00\"> </text>\n",
       "</g>\n",
       "<!-- 139881403056720&#45;&gt;139881403058112 -->\n",
       "<g id=\"edge28\" class=\"edge\">\n",
       "<title>139881403056720:r&#45;&gt;139881403058112:v</title>\n",
       "<path fill=\"none\" stroke=\"black\" d=\"M1253.5,-73C1253.5,-58.84 1265.46,-56 1270.89,-46.97\"/>\n",
       "<polygon fill=\"black\" stroke=\"black\" points=\"1274.35,-47.56 1273.5,-37 1267.58,-45.78 1274.35,-47.56\"/>\n",
       "</g>\n",
       "<!-- 139881403058208 -->\n",
       "<g id=\"node30\" class=\"node\">\n",
       "<title>139881403058208</title>\n",
       "<path fill=\"lightgray\" stroke=\"lightgray\" d=\"M1342,-0.5C1342,-0.5 1395,-0.5 1395,-0.5 1401,-0.5 1407,-6.5 1407,-12.5 1407,-12.5 1407,-24.5 1407,-24.5 1407,-30.5 1401,-36.5 1395,-36.5 1395,-36.5 1342,-36.5 1342,-36.5 1336,-36.5 1330,-30.5 1330,-24.5 1330,-24.5 1330,-12.5 1330,-12.5 1330,-6.5 1336,-0.5 1342,-0.5\"/>\n",
       "<text text-anchor=\"middle\" x=\"1340.5\" y=\"-14.8\" font-family=\"Times,serif\" font-size=\"14.00\"> </text>\n",
       "<polyline fill=\"none\" stroke=\"lightgray\" points=\"1351,-0.5 1351,-36.5 \"/>\n",
       "<text text-anchor=\"middle\" x=\"1368.5\" y=\"-14.8\" font-family=\"Times,serif\" font-size=\"14.00\">29</text>\n",
       "<polyline fill=\"none\" stroke=\"lightgray\" points=\"1386,-0.5 1386,-36.5 \"/>\n",
       "<text text-anchor=\"middle\" x=\"1396.5\" y=\"-14.8\" font-family=\"Times,serif\" font-size=\"14.00\"> </text>\n",
       "</g>\n",
       "<!-- 139881403056768&#45;&gt;139881403058208 -->\n",
       "<g id=\"edge29\" class=\"edge\">\n",
       "<title>139881403056768:l&#45;&gt;139881403058208:v</title>\n",
       "<path fill=\"none\" stroke=\"black\" d=\"M1368.5,-73C1368.5,-61 1368.5,-55.75 1368.5,-47.12\"/>\n",
       "<polygon fill=\"black\" stroke=\"black\" points=\"1372,-47 1368.5,-37 1365,-47 1372,-47\"/>\n",
       "</g>\n",
       "<!-- 139881403058304 -->\n",
       "<g id=\"node31\" class=\"node\">\n",
       "<title>139881403058304</title>\n",
       "<path fill=\"lightgray\" stroke=\"lightgray\" d=\"M1437,-0.5C1437,-0.5 1490,-0.5 1490,-0.5 1496,-0.5 1502,-6.5 1502,-12.5 1502,-12.5 1502,-24.5 1502,-24.5 1502,-30.5 1496,-36.5 1490,-36.5 1490,-36.5 1437,-36.5 1437,-36.5 1431,-36.5 1425,-30.5 1425,-24.5 1425,-24.5 1425,-12.5 1425,-12.5 1425,-6.5 1431,-0.5 1437,-0.5\"/>\n",
       "<text text-anchor=\"middle\" x=\"1435.5\" y=\"-14.8\" font-family=\"Times,serif\" font-size=\"14.00\"> </text>\n",
       "<polyline fill=\"none\" stroke=\"lightgray\" points=\"1446,-0.5 1446,-36.5 \"/>\n",
       "<text text-anchor=\"middle\" x=\"1463.5\" y=\"-14.8\" font-family=\"Times,serif\" font-size=\"14.00\">30</text>\n",
       "<polyline fill=\"none\" stroke=\"lightgray\" points=\"1481,-0.5 1481,-36.5 \"/>\n",
       "<text text-anchor=\"middle\" x=\"1491.5\" y=\"-14.8\" font-family=\"Times,serif\" font-size=\"14.00\"> </text>\n",
       "</g>\n",
       "<!-- 139881403056768&#45;&gt;139881403058304 -->\n",
       "<g id=\"edge30\" class=\"edge\">\n",
       "<title>139881403056768:r&#45;&gt;139881403058304:v</title>\n",
       "<path fill=\"none\" stroke=\"black\" d=\"M1424.5,-73C1424.5,-53.65 1450.74,-57.69 1460.17,-46.75\"/>\n",
       "<polygon fill=\"black\" stroke=\"black\" points=\"1463.59,-47.59 1463.5,-37 1456.96,-45.34 1463.59,-47.59\"/>\n",
       "</g>\n",
       "</g>\n",
       "</svg>\n"
      ],
      "text/plain": [
       "<graphviz.graphs.Digraph at 0x7f38ad570940>"
      ]
     },
     "execution_count": 8,
     "metadata": {},
     "output_type": "execute_result"
    }
   ],
   "source": [
    "overlay.graphviz()"
   ]
  },
  {
   "cell_type": "code",
   "execution_count": 9,
   "id": "731343bb-19dd-4478-8e22-3f08701dc16d",
   "metadata": {},
   "outputs": [
    {
     "data": {
      "text/plain": [
       "[[Node(0)],\n",
       " [Node(1), Node(2)],\n",
       " [Node(3), Node(4), Node(5), Node(6)],\n",
       " [Node(7), Node(8), Node(9), Node(10), Node(11), Node(12), Node(13), Node(14)],\n",
       " [Node(15),\n",
       "  Node(16),\n",
       "  Node(17),\n",
       "  Node(18),\n",
       "  Node(19),\n",
       "  Node(20),\n",
       "  Node(21),\n",
       "  Node(22),\n",
       "  Node(23),\n",
       "  Node(24),\n",
       "  Node(25),\n",
       "  Node(26),\n",
       "  Node(27),\n",
       "  Node(28),\n",
       "  Node(29),\n",
       "  Node(30)]]"
      ]
     },
     "execution_count": 9,
     "metadata": {},
     "output_type": "execute_result"
    }
   ],
   "source": [
    "overlay.levels"
   ]
  },
  {
   "cell_type": "markdown",
   "id": "b10a466b-f2d5-4a8f-9572-b2ca2ada520d",
   "metadata": {},
   "source": [
    "## Parent <> Child Assignment"
   ]
  },
  {
   "cell_type": "code",
   "execution_count": 10,
   "id": "68de5fdc-0900-4e95-b2d0-57e5c98cb30c",
   "metadata": {
    "tags": []
   },
   "outputs": [
    {
     "data": {
      "text/html": [
       "<div>\n",
       "<style scoped>\n",
       "    .dataframe tbody tr th:only-of-type {\n",
       "        vertical-align: middle;\n",
       "    }\n",
       "\n",
       "    .dataframe tbody tr th {\n",
       "        vertical-align: top;\n",
       "    }\n",
       "\n",
       "    .dataframe thead th {\n",
       "        text-align: right;\n",
       "    }\n",
       "</style>\n",
       "<table border=\"1\" class=\"dataframe\">\n",
       "  <thead>\n",
       "    <tr style=\"text-align: right;\">\n",
       "      <th></th>\n",
       "      <th>parent</th>\n",
       "      <th>children</th>\n",
       "    </tr>\n",
       "  </thead>\n",
       "  <tbody>\n",
       "    <tr>\n",
       "      <th>0</th>\n",
       "      <td>231</td>\n",
       "      <td>[1486, 170]</td>\n",
       "    </tr>\n",
       "    <tr>\n",
       "      <th>1</th>\n",
       "      <td>400</td>\n",
       "      <td>[47, 474]</td>\n",
       "    </tr>\n",
       "    <tr>\n",
       "      <th>2</th>\n",
       "      <td>1533</td>\n",
       "      <td>[1286, 99]</td>\n",
       "    </tr>\n",
       "    <tr>\n",
       "      <th>3</th>\n",
       "      <td>1015</td>\n",
       "      <td>[529, 1292]</td>\n",
       "    </tr>\n",
       "    <tr>\n",
       "      <th>4</th>\n",
       "      <td>34</td>\n",
       "      <td>[711, 1250]</td>\n",
       "    </tr>\n",
       "  </tbody>\n",
       "</table>\n",
       "</div>"
      ],
      "text/plain": [
       "   parent     children\n",
       "0     231  [1486, 170]\n",
       "1     400    [47, 474]\n",
       "2    1533   [1286, 99]\n",
       "3    1015  [529, 1292]\n",
       "4      34  [711, 1250]"
      ]
     },
     "execution_count": 10,
     "metadata": {},
     "output_type": "execute_result"
    }
   ],
   "source": [
    "parent_child_map = []\n",
    "for node in overlay:\n",
    "    # Is this node a Parent?\n",
    "    if committee_df.iloc[node.value,3]:\n",
    "        rand_parent_list = list(committee_df.iloc[node.value,:][\"committee_members\"])\n",
    "        random.shuffle(rand_parent_list)\n",
    "        if node.left != None:\n",
    "            rand_left_list = list(committee_df.iloc[node.left.value,:][\"committee_members\"])\n",
    "            random.shuffle(rand_left_list)\n",
    "        if node.right != None:\n",
    "            rand_right_list = list(committee_df.iloc[node.right.value,:][\"committee_members\"])\n",
    "            random.shuffle(rand_right_list)\n",
    "    for p,c1,c2 in zip(rand_parent_list, rand_left_list, rand_right_list):\n",
    "        parent_child_map.append({\"parent\": p, \"children\": [c1, c2]})\n",
    "parent_child_df = pd.DataFrame(parent_child_map)\n",
    "parent_child_df.head()"
   ]
  },
  {
   "cell_type": "code",
   "execution_count": 11,
   "id": "b57ded81-a0b1-4d78-88c6-3df71414e076",
   "metadata": {},
   "outputs": [],
   "source": [
    "def get_committee_ind(node_ind):\n",
    "    for ind, committee in committee_df.iterrows():\n",
    "        if node_ind in committee[\"committee_members\"]:\n",
    "            return ind"
   ]
  },
  {
   "cell_type": "code",
   "execution_count": 12,
   "id": "60d8aea0-d541-4ef6-a891-b6474137b63d",
   "metadata": {},
   "outputs": [],
   "source": [
    "parent_child_df[\"committee_ind\"] = parent_child_df[\"parent\"].apply(get_committee_ind)"
   ]
  },
  {
   "cell_type": "code",
   "execution_count": 13,
   "id": "7946d8d4-89e9-406f-ac5e-f4f20c2eedc0",
   "metadata": {},
   "outputs": [
    {
     "data": {
      "text/html": [
       "<div>\n",
       "<style scoped>\n",
       "    .dataframe tbody tr th:only-of-type {\n",
       "        vertical-align: middle;\n",
       "    }\n",
       "\n",
       "    .dataframe tbody tr th {\n",
       "        vertical-align: top;\n",
       "    }\n",
       "\n",
       "    .dataframe thead th {\n",
       "        text-align: right;\n",
       "    }\n",
       "</style>\n",
       "<table border=\"1\" class=\"dataframe\">\n",
       "  <thead>\n",
       "    <tr style=\"text-align: right;\">\n",
       "      <th></th>\n",
       "      <th>parent</th>\n",
       "      <th>children</th>\n",
       "      <th>committee_ind</th>\n",
       "    </tr>\n",
       "  </thead>\n",
       "  <tbody>\n",
       "    <tr>\n",
       "      <th>0</th>\n",
       "      <td>231</td>\n",
       "      <td>[1486, 170]</td>\n",
       "      <td>0</td>\n",
       "    </tr>\n",
       "    <tr>\n",
       "      <th>1</th>\n",
       "      <td>400</td>\n",
       "      <td>[47, 474]</td>\n",
       "      <td>0</td>\n",
       "    </tr>\n",
       "    <tr>\n",
       "      <th>2</th>\n",
       "      <td>1533</td>\n",
       "      <td>[1286, 99]</td>\n",
       "      <td>0</td>\n",
       "    </tr>\n",
       "    <tr>\n",
       "      <th>3</th>\n",
       "      <td>1015</td>\n",
       "      <td>[529, 1292]</td>\n",
       "      <td>0</td>\n",
       "    </tr>\n",
       "    <tr>\n",
       "      <th>4</th>\n",
       "      <td>34</td>\n",
       "      <td>[711, 1250]</td>\n",
       "      <td>0</td>\n",
       "    </tr>\n",
       "    <tr>\n",
       "      <th>...</th>\n",
       "      <td>...</td>\n",
       "      <td>...</td>\n",
       "      <td>...</td>\n",
       "    </tr>\n",
       "    <tr>\n",
       "      <th>1545</th>\n",
       "      <td>384</td>\n",
       "      <td>[1009, 528]</td>\n",
       "      <td>29</td>\n",
       "    </tr>\n",
       "    <tr>\n",
       "      <th>1546</th>\n",
       "      <td>1157</td>\n",
       "      <td>[305, 1245]</td>\n",
       "      <td>29</td>\n",
       "    </tr>\n",
       "    <tr>\n",
       "      <th>1547</th>\n",
       "      <td>647</td>\n",
       "      <td>[1487, 985]</td>\n",
       "      <td>29</td>\n",
       "    </tr>\n",
       "    <tr>\n",
       "      <th>1548</th>\n",
       "      <td>844</td>\n",
       "      <td>[1404, 1068]</td>\n",
       "      <td>29</td>\n",
       "    </tr>\n",
       "    <tr>\n",
       "      <th>1549</th>\n",
       "      <td>174</td>\n",
       "      <td>[188, 1004]</td>\n",
       "      <td>29</td>\n",
       "    </tr>\n",
       "  </tbody>\n",
       "</table>\n",
       "<p>1550 rows × 3 columns</p>\n",
       "</div>"
      ],
      "text/plain": [
       "      parent      children  committee_ind\n",
       "0        231   [1486, 170]              0\n",
       "1        400     [47, 474]              0\n",
       "2       1533    [1286, 99]              0\n",
       "3       1015   [529, 1292]              0\n",
       "4         34   [711, 1250]              0\n",
       "...      ...           ...            ...\n",
       "1545     384   [1009, 528]             29\n",
       "1546    1157   [305, 1245]             29\n",
       "1547     647   [1487, 985]             29\n",
       "1548     844  [1404, 1068]             29\n",
       "1549     174   [188, 1004]             29\n",
       "\n",
       "[1550 rows x 3 columns]"
      ]
     },
     "execution_count": 13,
     "metadata": {},
     "output_type": "execute_result"
    }
   ],
   "source": [
    "parent_child_df"
   ]
  },
  {
   "cell_type": "markdown",
   "id": "3a053d80-08b5-402f-a399-229ebe10841c",
   "metadata": {},
   "source": [
    "## Erasure Code a Block"
   ]
  },
  {
   "cell_type": "code",
   "execution_count": 14,
   "id": "e04e6c6a-ed75-44fe-b8f4-e1d09a17fad7",
   "metadata": {},
   "outputs": [],
   "source": [
    "# Currently these are made up, research reasonable values\n",
    "num_slices = 100 \n",
    "num_codes = 100\n",
    "total_chunks = num_slices + num_codes\n",
    "size_per_chunk = block_size / (num_codes + num_slices) # MB\n",
    "redundancy_factor = 1.5\n",
    "num_blocks_per_committee_member = redundancy_factor * total_chunks / committee_size\n",
    "min_num_messages_to_reconstruct = num_slices - num_blocks_per_committee_member"
   ]
  },
  {
   "cell_type": "code",
   "execution_count": 15,
   "id": "6559a129-93a9-4149-8b53-6d86c2f25ea4",
   "metadata": {},
   "outputs": [
    {
     "data": {
      "text/plain": [
       "6.0"
      ]
     },
     "execution_count": 15,
     "metadata": {},
     "output_type": "execute_result"
    }
   ],
   "source": [
    "num_blocks_per_committee_member"
   ]
  },
  {
   "cell_type": "code",
   "execution_count": 16,
   "id": "c058bf64-ad73-408d-9817-d414fa5bb2d9",
   "metadata": {},
   "outputs": [
    {
     "data": {
      "text/plain": [
       "0.005"
      ]
     },
     "execution_count": 16,
     "metadata": {},
     "output_type": "execute_result"
    }
   ],
   "source": [
    "size_per_chunk"
   ]
  },
  {
   "cell_type": "markdown",
   "id": "bd6752ea-0f14-4476-aa6b-59486ee4bbc5",
   "metadata": {},
   "source": [
    "## Dashboard"
   ]
  },
  {
   "cell_type": "code",
   "execution_count": 17,
   "id": "51637024-7900-47ff-8494-af7d9b7b19a4",
   "metadata": {},
   "outputs": [],
   "source": [
    "num_nodes = widgets.IntSlider(\n",
    "    value = 1550,\n",
    "    min = 100,\n",
    "    max = 100000,\n",
    "    step = 50,\n",
    "    description = \"Number of Nodes:\",\n",
    "    continuos_update=True\n",
    ")\n",
    "\n",
    "committee_size = widgets.IntSlider(\n",
    "    value = 50,\n",
    "    min = 20,\n",
    "    max = 500,\n",
    "    step = 5,\n",
    "    description = \"Size of a Committee:\",\n",
    "    continuos_update=True\n",
    ")\n",
    "\n",
    "byzantine_perc = widgets.IntSlider(\n",
    "    value = 0.15,\n",
    "    min = 0,\n",
    "    max = 1,\n",
    "    step = .01,\n",
    "    description = \"Byzantine Percentage:\",\n",
    "    continuos_update=True\n",
    ")\n",
    "\n",
    "block_size = widgets.IntSlider(\n",
    "    value = 1,\n",
    "    min = 1,\n",
    "    max = 100,\n",
    "    step = 1,\n",
    "    description = \"Block Size:\",\n",
    "    continuos_update=True\n",
    ")\n",
    "\n",
    "container = widgets.HBox(children=[num_nodes, committee_size, byzantine_perc, block_size])"
   ]
  },
  {
   "cell_type": "code",
   "execution_count": 19,
   "id": "36ed9c95-cc81-489b-84c8-be211b3e0770",
   "metadata": {},
   "outputs": [
    {
     "ename": "AttributeError",
     "evalue": "type object 'DOMWidget' has no attribute '_ipython_display_'",
     "output_type": "error",
     "traceback": [
      "\u001b[0;31m---------------------------------------------------------------------------\u001b[0m",
      "\u001b[0;31mAttributeError\u001b[0m                            Traceback (most recent call last)",
      "File \u001b[0;32m~/.local/lib/python3.8/site-packages/IPython/core/formatters.py:921\u001b[0m, in \u001b[0;36mIPythonDisplayFormatter.__call__\u001b[0;34m(self, obj)\u001b[0m\n\u001b[1;32m    919\u001b[0m method \u001b[38;5;241m=\u001b[39m get_real_method(obj, \u001b[38;5;28mself\u001b[39m\u001b[38;5;241m.\u001b[39mprint_method)\n\u001b[1;32m    920\u001b[0m \u001b[38;5;28;01mif\u001b[39;00m method \u001b[38;5;129;01mis\u001b[39;00m \u001b[38;5;129;01mnot\u001b[39;00m \u001b[38;5;28;01mNone\u001b[39;00m:\n\u001b[0;32m--> 921\u001b[0m     \u001b[43mmethod\u001b[49m\u001b[43m(\u001b[49m\u001b[43m)\u001b[49m\n\u001b[1;32m    922\u001b[0m     \u001b[38;5;28;01mreturn\u001b[39;00m \u001b[38;5;28;01mTrue\u001b[39;00m\n",
      "File \u001b[0;32m~/.local/lib/python3.8/site-packages/plotly/basewidget.py:741\u001b[0m, in \u001b[0;36mBaseFigureWidget._ipython_display_\u001b[0;34m(self)\u001b[0m\n\u001b[1;32m    737\u001b[0m \u001b[38;5;124;03m\"\"\"\u001b[39;00m\n\u001b[1;32m    738\u001b[0m \u001b[38;5;124;03mHandle rich display of figures in ipython contexts\u001b[39;00m\n\u001b[1;32m    739\u001b[0m \u001b[38;5;124;03m\"\"\"\u001b[39;00m\n\u001b[1;32m    740\u001b[0m \u001b[38;5;66;03m# Override BaseFigure's display to make sure we display the widget version\u001b[39;00m\n\u001b[0;32m--> 741\u001b[0m \u001b[43mwidgets\u001b[49m\u001b[38;5;241;43m.\u001b[39;49m\u001b[43mDOMWidget\u001b[49m\u001b[38;5;241;43m.\u001b[39;49m\u001b[43m_ipython_display_\u001b[49m(\u001b[38;5;28mself\u001b[39m)\n",
      "\u001b[0;31mAttributeError\u001b[0m: type object 'DOMWidget' has no attribute '_ipython_display_'"
     ]
    },
    {
     "data": {
      "application/vnd.plotly.v1+json": {
       "config": {
        "plotlyServerURL": "https://plot.ly"
       },
       "data": [],
       "layout": {
        "annotations": [
         {
          "text": "sample text",
          "x": 2,
          "y": 5
         }
        ],
        "autosize": true,
        "barmode": "overlay",
        "template": {
         "data": {
          "bar": [
           {
            "error_x": {
             "color": "#2a3f5f"
            },
            "error_y": {
             "color": "#2a3f5f"
            },
            "marker": {
             "line": {
              "color": "#E5ECF6",
              "width": 0.5
             },
             "pattern": {
              "fillmode": "overlay",
              "size": 10,
              "solidity": 0.2
             }
            },
            "type": "bar"
           }
          ],
          "barpolar": [
           {
            "marker": {
             "line": {
              "color": "#E5ECF6",
              "width": 0.5
             },
             "pattern": {
              "fillmode": "overlay",
              "size": 10,
              "solidity": 0.2
             }
            },
            "type": "barpolar"
           }
          ],
          "carpet": [
           {
            "aaxis": {
             "endlinecolor": "#2a3f5f",
             "gridcolor": "white",
             "linecolor": "white",
             "minorgridcolor": "white",
             "startlinecolor": "#2a3f5f"
            },
            "baxis": {
             "endlinecolor": "#2a3f5f",
             "gridcolor": "white",
             "linecolor": "white",
             "minorgridcolor": "white",
             "startlinecolor": "#2a3f5f"
            },
            "type": "carpet"
           }
          ],
          "choropleth": [
           {
            "colorbar": {
             "outlinewidth": 0,
             "ticks": ""
            },
            "type": "choropleth"
           }
          ],
          "contour": [
           {
            "colorbar": {
             "outlinewidth": 0,
             "ticks": ""
            },
            "colorscale": [
             [
              0,
              "#0d0887"
             ],
             [
              0.1111111111111111,
              "#46039f"
             ],
             [
              0.2222222222222222,
              "#7201a8"
             ],
             [
              0.3333333333333333,
              "#9c179e"
             ],
             [
              0.4444444444444444,
              "#bd3786"
             ],
             [
              0.5555555555555556,
              "#d8576b"
             ],
             [
              0.6666666666666666,
              "#ed7953"
             ],
             [
              0.7777777777777778,
              "#fb9f3a"
             ],
             [
              0.8888888888888888,
              "#fdca26"
             ],
             [
              1,
              "#f0f921"
             ]
            ],
            "type": "contour"
           }
          ],
          "contourcarpet": [
           {
            "colorbar": {
             "outlinewidth": 0,
             "ticks": ""
            },
            "type": "contourcarpet"
           }
          ],
          "heatmap": [
           {
            "colorbar": {
             "outlinewidth": 0,
             "ticks": ""
            },
            "colorscale": [
             [
              0,
              "#0d0887"
             ],
             [
              0.1111111111111111,
              "#46039f"
             ],
             [
              0.2222222222222222,
              "#7201a8"
             ],
             [
              0.3333333333333333,
              "#9c179e"
             ],
             [
              0.4444444444444444,
              "#bd3786"
             ],
             [
              0.5555555555555556,
              "#d8576b"
             ],
             [
              0.6666666666666666,
              "#ed7953"
             ],
             [
              0.7777777777777778,
              "#fb9f3a"
             ],
             [
              0.8888888888888888,
              "#fdca26"
             ],
             [
              1,
              "#f0f921"
             ]
            ],
            "type": "heatmap"
           }
          ],
          "heatmapgl": [
           {
            "colorbar": {
             "outlinewidth": 0,
             "ticks": ""
            },
            "colorscale": [
             [
              0,
              "#0d0887"
             ],
             [
              0.1111111111111111,
              "#46039f"
             ],
             [
              0.2222222222222222,
              "#7201a8"
             ],
             [
              0.3333333333333333,
              "#9c179e"
             ],
             [
              0.4444444444444444,
              "#bd3786"
             ],
             [
              0.5555555555555556,
              "#d8576b"
             ],
             [
              0.6666666666666666,
              "#ed7953"
             ],
             [
              0.7777777777777778,
              "#fb9f3a"
             ],
             [
              0.8888888888888888,
              "#fdca26"
             ],
             [
              1,
              "#f0f921"
             ]
            ],
            "type": "heatmapgl"
           }
          ],
          "histogram": [
           {
            "marker": {
             "pattern": {
              "fillmode": "overlay",
              "size": 10,
              "solidity": 0.2
             }
            },
            "type": "histogram"
           }
          ],
          "histogram2d": [
           {
            "colorbar": {
             "outlinewidth": 0,
             "ticks": ""
            },
            "colorscale": [
             [
              0,
              "#0d0887"
             ],
             [
              0.1111111111111111,
              "#46039f"
             ],
             [
              0.2222222222222222,
              "#7201a8"
             ],
             [
              0.3333333333333333,
              "#9c179e"
             ],
             [
              0.4444444444444444,
              "#bd3786"
             ],
             [
              0.5555555555555556,
              "#d8576b"
             ],
             [
              0.6666666666666666,
              "#ed7953"
             ],
             [
              0.7777777777777778,
              "#fb9f3a"
             ],
             [
              0.8888888888888888,
              "#fdca26"
             ],
             [
              1,
              "#f0f921"
             ]
            ],
            "type": "histogram2d"
           }
          ],
          "histogram2dcontour": [
           {
            "colorbar": {
             "outlinewidth": 0,
             "ticks": ""
            },
            "colorscale": [
             [
              0,
              "#0d0887"
             ],
             [
              0.1111111111111111,
              "#46039f"
             ],
             [
              0.2222222222222222,
              "#7201a8"
             ],
             [
              0.3333333333333333,
              "#9c179e"
             ],
             [
              0.4444444444444444,
              "#bd3786"
             ],
             [
              0.5555555555555556,
              "#d8576b"
             ],
             [
              0.6666666666666666,
              "#ed7953"
             ],
             [
              0.7777777777777778,
              "#fb9f3a"
             ],
             [
              0.8888888888888888,
              "#fdca26"
             ],
             [
              1,
              "#f0f921"
             ]
            ],
            "type": "histogram2dcontour"
           }
          ],
          "mesh3d": [
           {
            "colorbar": {
             "outlinewidth": 0,
             "ticks": ""
            },
            "type": "mesh3d"
           }
          ],
          "parcoords": [
           {
            "line": {
             "colorbar": {
              "outlinewidth": 0,
              "ticks": ""
             }
            },
            "type": "parcoords"
           }
          ],
          "pie": [
           {
            "automargin": true,
            "type": "pie"
           }
          ],
          "scatter": [
           {
            "fillpattern": {
             "fillmode": "overlay",
             "size": 10,
             "solidity": 0.2
            },
            "type": "scatter"
           }
          ],
          "scatter3d": [
           {
            "line": {
             "colorbar": {
              "outlinewidth": 0,
              "ticks": ""
             }
            },
            "marker": {
             "colorbar": {
              "outlinewidth": 0,
              "ticks": ""
             }
            },
            "type": "scatter3d"
           }
          ],
          "scattercarpet": [
           {
            "marker": {
             "colorbar": {
              "outlinewidth": 0,
              "ticks": ""
             }
            },
            "type": "scattercarpet"
           }
          ],
          "scattergeo": [
           {
            "marker": {
             "colorbar": {
              "outlinewidth": 0,
              "ticks": ""
             }
            },
            "type": "scattergeo"
           }
          ],
          "scattergl": [
           {
            "marker": {
             "colorbar": {
              "outlinewidth": 0,
              "ticks": ""
             }
            },
            "type": "scattergl"
           }
          ],
          "scattermapbox": [
           {
            "marker": {
             "colorbar": {
              "outlinewidth": 0,
              "ticks": ""
             }
            },
            "type": "scattermapbox"
           }
          ],
          "scatterpolar": [
           {
            "marker": {
             "colorbar": {
              "outlinewidth": 0,
              "ticks": ""
             }
            },
            "type": "scatterpolar"
           }
          ],
          "scatterpolargl": [
           {
            "marker": {
             "colorbar": {
              "outlinewidth": 0,
              "ticks": ""
             }
            },
            "type": "scatterpolargl"
           }
          ],
          "scatterternary": [
           {
            "marker": {
             "colorbar": {
              "outlinewidth": 0,
              "ticks": ""
             }
            },
            "type": "scatterternary"
           }
          ],
          "surface": [
           {
            "colorbar": {
             "outlinewidth": 0,
             "ticks": ""
            },
            "colorscale": [
             [
              0,
              "#0d0887"
             ],
             [
              0.1111111111111111,
              "#46039f"
             ],
             [
              0.2222222222222222,
              "#7201a8"
             ],
             [
              0.3333333333333333,
              "#9c179e"
             ],
             [
              0.4444444444444444,
              "#bd3786"
             ],
             [
              0.5555555555555556,
              "#d8576b"
             ],
             [
              0.6666666666666666,
              "#ed7953"
             ],
             [
              0.7777777777777778,
              "#fb9f3a"
             ],
             [
              0.8888888888888888,
              "#fdca26"
             ],
             [
              1,
              "#f0f921"
             ]
            ],
            "type": "surface"
           }
          ],
          "table": [
           {
            "cells": {
             "fill": {
              "color": "#EBF0F8"
             },
             "line": {
              "color": "white"
             }
            },
            "header": {
             "fill": {
              "color": "#C8D4E3"
             },
             "line": {
              "color": "white"
             }
            },
            "type": "table"
           }
          ]
         },
         "layout": {
          "annotationdefaults": {
           "arrowcolor": "#2a3f5f",
           "arrowhead": 0,
           "arrowwidth": 1
          },
          "autotypenumbers": "strict",
          "coloraxis": {
           "colorbar": {
            "outlinewidth": 0,
            "ticks": ""
           }
          },
          "colorscale": {
           "diverging": [
            [
             0,
             "#8e0152"
            ],
            [
             0.1,
             "#c51b7d"
            ],
            [
             0.2,
             "#de77ae"
            ],
            [
             0.3,
             "#f1b6da"
            ],
            [
             0.4,
             "#fde0ef"
            ],
            [
             0.5,
             "#f7f7f7"
            ],
            [
             0.6,
             "#e6f5d0"
            ],
            [
             0.7,
             "#b8e186"
            ],
            [
             0.8,
             "#7fbc41"
            ],
            [
             0.9,
             "#4d9221"
            ],
            [
             1,
             "#276419"
            ]
           ],
           "sequential": [
            [
             0,
             "#0d0887"
            ],
            [
             0.1111111111111111,
             "#46039f"
            ],
            [
             0.2222222222222222,
             "#7201a8"
            ],
            [
             0.3333333333333333,
             "#9c179e"
            ],
            [
             0.4444444444444444,
             "#bd3786"
            ],
            [
             0.5555555555555556,
             "#d8576b"
            ],
            [
             0.6666666666666666,
             "#ed7953"
            ],
            [
             0.7777777777777778,
             "#fb9f3a"
            ],
            [
             0.8888888888888888,
             "#fdca26"
            ],
            [
             1,
             "#f0f921"
            ]
           ],
           "sequentialminus": [
            [
             0,
             "#0d0887"
            ],
            [
             0.1111111111111111,
             "#46039f"
            ],
            [
             0.2222222222222222,
             "#7201a8"
            ],
            [
             0.3333333333333333,
             "#9c179e"
            ],
            [
             0.4444444444444444,
             "#bd3786"
            ],
            [
             0.5555555555555556,
             "#d8576b"
            ],
            [
             0.6666666666666666,
             "#ed7953"
            ],
            [
             0.7777777777777778,
             "#fb9f3a"
            ],
            [
             0.8888888888888888,
             "#fdca26"
            ],
            [
             1,
             "#f0f921"
            ]
           ]
          },
          "colorway": [
           "#636efa",
           "#EF553B",
           "#00cc96",
           "#ab63fa",
           "#FFA15A",
           "#19d3f3",
           "#FF6692",
           "#B6E880",
           "#FF97FF",
           "#FECB52"
          ],
          "font": {
           "color": "#2a3f5f"
          },
          "geo": {
           "bgcolor": "white",
           "lakecolor": "white",
           "landcolor": "#E5ECF6",
           "showlakes": true,
           "showland": true,
           "subunitcolor": "white"
          },
          "hoverlabel": {
           "align": "left"
          },
          "hovermode": "closest",
          "mapbox": {
           "style": "light"
          },
          "paper_bgcolor": "white",
          "plot_bgcolor": "#E5ECF6",
          "polar": {
           "angularaxis": {
            "gridcolor": "white",
            "linecolor": "white",
            "ticks": ""
           },
           "bgcolor": "#E5ECF6",
           "radialaxis": {
            "gridcolor": "white",
            "linecolor": "white",
            "ticks": ""
           }
          },
          "scene": {
           "xaxis": {
            "backgroundcolor": "#E5ECF6",
            "gridcolor": "white",
            "gridwidth": 2,
            "linecolor": "white",
            "showbackground": true,
            "ticks": "",
            "zerolinecolor": "white"
           },
           "yaxis": {
            "backgroundcolor": "#E5ECF6",
            "gridcolor": "white",
            "gridwidth": 2,
            "linecolor": "white",
            "showbackground": true,
            "ticks": "",
            "zerolinecolor": "white"
           },
           "zaxis": {
            "backgroundcolor": "#E5ECF6",
            "gridcolor": "white",
            "gridwidth": 2,
            "linecolor": "white",
            "showbackground": true,
            "ticks": "",
            "zerolinecolor": "white"
           }
          },
          "shapedefaults": {
           "line": {
            "color": "#2a3f5f"
           }
          },
          "ternary": {
           "aaxis": {
            "gridcolor": "white",
            "linecolor": "white",
            "ticks": ""
           },
           "baxis": {
            "gridcolor": "white",
            "linecolor": "white",
            "ticks": ""
           },
           "bgcolor": "#E5ECF6",
           "caxis": {
            "gridcolor": "white",
            "linecolor": "white",
            "ticks": ""
           }
          },
          "title": {
           "x": 0.05
          },
          "xaxis": {
           "automargin": true,
           "gridcolor": "white",
           "linecolor": "white",
           "ticks": "",
           "title": {
            "standoff": 15
           },
           "zerolinecolor": "white",
           "zerolinewidth": 2
          },
          "yaxis": {
           "automargin": true,
           "gridcolor": "white",
           "linecolor": "white",
           "ticks": "",
           "title": {
            "standoff": 15
           },
           "zerolinecolor": "white",
           "zerolinewidth": 2
          }
         }
        },
        "title": {
         "text": "LogosBFT Dashboard"
        },
        "xaxis": {
         "autorange": true,
         "range": [
          -1,
          6
         ]
        },
        "yaxis": {
         "autorange": true,
         "range": [
          -1,
          4
         ]
        }
       }
      },
      "image/png": "[encoded data removed]",
      "text/html": [
       "<div>                            <div id=\"3eaf0a4e-e41c-446d-bf98-696e9fe2d5b6\" class=\"plotly-graph-div\" style=\"height:525px; width:100%;\"></div>            <script type=\"text/javascript\">                require([\"plotly\"], function(Plotly) {                    window.PLOTLYENV=window.PLOTLYENV || {};                                    if (document.getElementById(\"3eaf0a4e-e41c-446d-bf98-696e9fe2d5b6\")) {                    Plotly.newPlot(                        \"3eaf0a4e-e41c-446d-bf98-696e9fe2d5b6\",                        [],                        {\"barmode\":\"overlay\",\"title\":{\"text\":\"LogosBFT Dashboard\"},\"template\":{\"data\":{\"barpolar\":[{\"marker\":{\"line\":{\"color\":\"#E5ECF6\",\"width\":0.5},\"pattern\":{\"fillmode\":\"overlay\",\"size\":10,\"solidity\":0.2}},\"type\":\"barpolar\"}],\"bar\":[{\"error_x\":{\"color\":\"#2a3f5f\"},\"error_y\":{\"color\":\"#2a3f5f\"},\"marker\":{\"line\":{\"color\":\"#E5ECF6\",\"width\":0.5},\"pattern\":{\"fillmode\":\"overlay\",\"size\":10,\"solidity\":0.2}},\"type\":\"bar\"}],\"carpet\":[{\"aaxis\":{\"endlinecolor\":\"#2a3f5f\",\"gridcolor\":\"white\",\"linecolor\":\"white\",\"minorgridcolor\":\"white\",\"startlinecolor\":\"#2a3f5f\"},\"baxis\":{\"endlinecolor\":\"#2a3f5f\",\"gridcolor\":\"white\",\"linecolor\":\"white\",\"minorgridcolor\":\"white\",\"startlinecolor\":\"#2a3f5f\"},\"type\":\"carpet\"}],\"choropleth\":[{\"colorbar\":{\"outlinewidth\":0,\"ticks\":\"\"},\"type\":\"choropleth\"}],\"contourcarpet\":[{\"colorbar\":{\"outlinewidth\":0,\"ticks\":\"\"},\"type\":\"contourcarpet\"}],\"contour\":[{\"colorbar\":{\"outlinewidth\":0,\"ticks\":\"\"},\"colorscale\":[[0.0,\"#0d0887\"],[0.1111111111111111,\"#46039f\"],[0.2222222222222222,\"#7201a8\"],[0.3333333333333333,\"#9c179e\"],[0.4444444444444444,\"#bd3786\"],[0.5555555555555556,\"#d8576b\"],[0.6666666666666666,\"#ed7953\"],[0.7777777777777778,\"#fb9f3a\"],[0.8888888888888888,\"#fdca26\"],[1.0,\"#f0f921\"]],\"type\":\"contour\"}],\"heatmapgl\":[{\"colorbar\":{\"outlinewidth\":0,\"ticks\":\"\"},\"colorscale\":[[0.0,\"#0d0887\"],[0.1111111111111111,\"#46039f\"],[0.2222222222222222,\"#7201a8\"],[0.3333333333333333,\"#9c179e\"],[0.4444444444444444,\"#bd3786\"],[0.5555555555555556,\"#d8576b\"],[0.6666666666666666,\"#ed7953\"],[0.7777777777777778,\"#fb9f3a\"],[0.8888888888888888,\"#fdca26\"],[1.0,\"#f0f921\"]],\"type\":\"heatmapgl\"}],\"heatmap\":[{\"colorbar\":{\"outlinewidth\":0,\"ticks\":\"\"},\"colorscale\":[[0.0,\"#0d0887\"],[0.1111111111111111,\"#46039f\"],[0.2222222222222222,\"#7201a8\"],[0.3333333333333333,\"#9c179e\"],[0.4444444444444444,\"#bd3786\"],[0.5555555555555556,\"#d8576b\"],[0.6666666666666666,\"#ed7953\"],[0.7777777777777778,\"#fb9f3a\"],[0.8888888888888888,\"#fdca26\"],[1.0,\"#f0f921\"]],\"type\":\"heatmap\"}],\"histogram2dcontour\":[{\"colorbar\":{\"outlinewidth\":0,\"ticks\":\"\"},\"colorscale\":[[0.0,\"#0d0887\"],[0.1111111111111111,\"#46039f\"],[0.2222222222222222,\"#7201a8\"],[0.3333333333333333,\"#9c179e\"],[0.4444444444444444,\"#bd3786\"],[0.5555555555555556,\"#d8576b\"],[0.6666666666666666,\"#ed7953\"],[0.7777777777777778,\"#fb9f3a\"],[0.8888888888888888,\"#fdca26\"],[1.0,\"#f0f921\"]],\"type\":\"histogram2dcontour\"}],\"histogram2d\":[{\"colorbar\":{\"outlinewidth\":0,\"ticks\":\"\"},\"colorscale\":[[0.0,\"#0d0887\"],[0.1111111111111111,\"#46039f\"],[0.2222222222222222,\"#7201a8\"],[0.3333333333333333,\"#9c179e\"],[0.4444444444444444,\"#bd3786\"],[0.5555555555555556,\"#d8576b\"],[0.6666666666666666,\"#ed7953\"],[0.7777777777777778,\"#fb9f3a\"],[0.8888888888888888,\"#fdca26\"],[1.0,\"#f0f921\"]],\"type\":\"histogram2d\"}],\"histogram\":[{\"marker\":{\"pattern\":{\"fillmode\":\"overlay\",\"size\":10,\"solidity\":0.2}},\"type\":\"histogram\"}],\"mesh3d\":[{\"colorbar\":{\"outlinewidth\":0,\"ticks\":\"\"},\"type\":\"mesh3d\"}],\"parcoords\":[{\"line\":{\"colorbar\":{\"outlinewidth\":0,\"ticks\":\"\"}},\"type\":\"parcoords\"}],\"pie\":[{\"automargin\":true,\"type\":\"pie\"}],\"scatter3d\":[{\"line\":{\"colorbar\":{\"outlinewidth\":0,\"ticks\":\"\"}},\"marker\":{\"colorbar\":{\"outlinewidth\":0,\"ticks\":\"\"}},\"type\":\"scatter3d\"}],\"scattercarpet\":[{\"marker\":{\"colorbar\":{\"outlinewidth\":0,\"ticks\":\"\"}},\"type\":\"scattercarpet\"}],\"scattergeo\":[{\"marker\":{\"colorbar\":{\"outlinewidth\":0,\"ticks\":\"\"}},\"type\":\"scattergeo\"}],\"scattergl\":[{\"marker\":{\"colorbar\":{\"outlinewidth\":0,\"ticks\":\"\"}},\"type\":\"scattergl\"}],\"scattermapbox\":[{\"marker\":{\"colorbar\":{\"outlinewidth\":0,\"ticks\":\"\"}},\"type\":\"scattermapbox\"}],\"scatterpolargl\":[{\"marker\":{\"colorbar\":{\"outlinewidth\":0,\"ticks\":\"\"}},\"type\":\"scatterpolargl\"}],\"scatterpolar\":[{\"marker\":{\"colorbar\":{\"outlinewidth\":0,\"ticks\":\"\"}},\"type\":\"scatterpolar\"}],\"scatter\":[{\"fillpattern\":{\"fillmode\":\"overlay\",\"size\":10,\"solidity\":0.2},\"type\":\"scatter\"}],\"scatterternary\":[{\"marker\":{\"colorbar\":{\"outlinewidth\":0,\"ticks\":\"\"}},\"type\":\"scatterternary\"}],\"surface\":[{\"colorbar\":{\"outlinewidth\":0,\"ticks\":\"\"},\"colorscale\":[[0.0,\"#0d0887\"],[0.1111111111111111,\"#46039f\"],[0.2222222222222222,\"#7201a8\"],[0.3333333333333333,\"#9c179e\"],[0.4444444444444444,\"#bd3786\"],[0.5555555555555556,\"#d8576b\"],[0.6666666666666666,\"#ed7953\"],[0.7777777777777778,\"#fb9f3a\"],[0.8888888888888888,\"#fdca26\"],[1.0,\"#f0f921\"]],\"type\":\"surface\"}],\"table\":[{\"cells\":{\"fill\":{\"color\":\"#EBF0F8\"},\"line\":{\"color\":\"white\"}},\"header\":{\"fill\":{\"color\":\"#C8D4E3\"},\"line\":{\"color\":\"white\"}},\"type\":\"table\"}]},\"layout\":{\"annotationdefaults\":{\"arrowcolor\":\"#2a3f5f\",\"arrowhead\":0,\"arrowwidth\":1},\"autotypenumbers\":\"strict\",\"coloraxis\":{\"colorbar\":{\"outlinewidth\":0,\"ticks\":\"\"}},\"colorscale\":{\"diverging\":[[0,\"#8e0152\"],[0.1,\"#c51b7d\"],[0.2,\"#de77ae\"],[0.3,\"#f1b6da\"],[0.4,\"#fde0ef\"],[0.5,\"#f7f7f7\"],[0.6,\"#e6f5d0\"],[0.7,\"#b8e186\"],[0.8,\"#7fbc41\"],[0.9,\"#4d9221\"],[1,\"#276419\"]],\"sequential\":[[0.0,\"#0d0887\"],[0.1111111111111111,\"#46039f\"],[0.2222222222222222,\"#7201a8\"],[0.3333333333333333,\"#9c179e\"],[0.4444444444444444,\"#bd3786\"],[0.5555555555555556,\"#d8576b\"],[0.6666666666666666,\"#ed7953\"],[0.7777777777777778,\"#fb9f3a\"],[0.8888888888888888,\"#fdca26\"],[1.0,\"#f0f921\"]],\"sequentialminus\":[[0.0,\"#0d0887\"],[0.1111111111111111,\"#46039f\"],[0.2222222222222222,\"#7201a8\"],[0.3333333333333333,\"#9c179e\"],[0.4444444444444444,\"#bd3786\"],[0.5555555555555556,\"#d8576b\"],[0.6666666666666666,\"#ed7953\"],[0.7777777777777778,\"#fb9f3a\"],[0.8888888888888888,\"#fdca26\"],[1.0,\"#f0f921\"]]},\"colorway\":[\"#636efa\",\"#EF553B\",\"#00cc96\",\"#ab63fa\",\"#FFA15A\",\"#19d3f3\",\"#FF6692\",\"#B6E880\",\"#FF97FF\",\"#FECB52\"],\"font\":{\"color\":\"#2a3f5f\"},\"geo\":{\"bgcolor\":\"white\",\"lakecolor\":\"white\",\"landcolor\":\"#E5ECF6\",\"showlakes\":true,\"showland\":true,\"subunitcolor\":\"white\"},\"hoverlabel\":{\"align\":\"left\"},\"hovermode\":\"closest\",\"mapbox\":{\"style\":\"light\"},\"paper_bgcolor\":\"white\",\"plot_bgcolor\":\"#E5ECF6\",\"polar\":{\"angularaxis\":{\"gridcolor\":\"white\",\"linecolor\":\"white\",\"ticks\":\"\"},\"bgcolor\":\"#E5ECF6\",\"radialaxis\":{\"gridcolor\":\"white\",\"linecolor\":\"white\",\"ticks\":\"\"}},\"scene\":{\"xaxis\":{\"backgroundcolor\":\"#E5ECF6\",\"gridcolor\":\"white\",\"gridwidth\":2,\"linecolor\":\"white\",\"showbackground\":true,\"ticks\":\"\",\"zerolinecolor\":\"white\"},\"yaxis\":{\"backgroundcolor\":\"#E5ECF6\",\"gridcolor\":\"white\",\"gridwidth\":2,\"linecolor\":\"white\",\"showbackground\":true,\"ticks\":\"\",\"zerolinecolor\":\"white\"},\"zaxis\":{\"backgroundcolor\":\"#E5ECF6\",\"gridcolor\":\"white\",\"gridwidth\":2,\"linecolor\":\"white\",\"showbackground\":true,\"ticks\":\"\",\"zerolinecolor\":\"white\"}},\"shapedefaults\":{\"line\":{\"color\":\"#2a3f5f\"}},\"ternary\":{\"aaxis\":{\"gridcolor\":\"white\",\"linecolor\":\"white\",\"ticks\":\"\"},\"baxis\":{\"gridcolor\":\"white\",\"linecolor\":\"white\",\"ticks\":\"\"},\"bgcolor\":\"#E5ECF6\",\"caxis\":{\"gridcolor\":\"white\",\"linecolor\":\"white\",\"ticks\":\"\"}},\"title\":{\"x\":0.05},\"xaxis\":{\"automargin\":true,\"gridcolor\":\"white\",\"linecolor\":\"white\",\"ticks\":\"\",\"title\":{\"standoff\":15},\"zerolinecolor\":\"white\",\"zerolinewidth\":2},\"yaxis\":{\"automargin\":true,\"gridcolor\":\"white\",\"linecolor\":\"white\",\"ticks\":\"\",\"title\":{\"standoff\":15},\"zerolinecolor\":\"white\",\"zerolinewidth\":2}}},\"annotations\":[{\"text\":\"sample text\",\"x\":2,\"y\":5}]},                        {\"responsive\": true}                    ).then(function(){\n",
       "                            \n",
       "var gd = document.getElementById('3eaf0a4e-e41c-446d-bf98-696e9fe2d5b6');\n",
       "var x = new MutationObserver(function (mutations, observer) {{\n",
       "        var display = window.getComputedStyle(gd).display;\n",
       "        if (!display || display === 'none') {{\n",
       "            console.log([gd, 'removed!']);\n",
       "            Plotly.purge(gd);\n",
       "            observer.disconnect();\n",
       "        }}\n",
       "}});\n",
       "\n",
       "// Listen for the removal of the full notebook cells\n",
       "var notebookContainer = gd.closest('#notebook-container');\n",
       "if (notebookContainer) {{\n",
       "    x.observe(notebookContainer, {childList: true});\n",
       "}}\n",
       "\n",
       "// Listen for the clearing of the current output cell\n",
       "var outputEl = gd.closest('.output');\n",
       "if (outputEl) {{\n",
       "    x.observe(outputEl, {childList: true});\n",
       "}}\n",
       "\n",
       "                        })                };                });            </script>        </div>"
      ],
      "text/plain": [
       "FigureWidget({\n",
       "    'data': [],\n",
       "    'layout': {'annotations': [{'text': 'sample text', 'x': 2, 'y': 5}],\n",
       "               'barmode': 'overlay',\n",
       "               'template': '...',\n",
       "               'title': {'text': 'LogosBFT Dashboard'}}\n",
       "})"
      ]
     },
     "execution_count": 19,
     "metadata": {},
     "output_type": "execute_result"
    }
   ],
   "source": [
    "g = go.FigureWidget(data=[],\n",
    "                    layout=go.Layout(\n",
    "                        title = dict(\n",
    "                            text=\"LogosBFT Dashboard\"\n",
    "                        ),\n",
    "                        barmode=\"overlay\"\n",
    "                    ))\n",
    "g.add_annotation(x=2, y=5,\n",
    "                       text=\"sample text\"\n",
    "                      )"
   ]
  },
  {
   "cell_type": "code",
   "execution_count": null,
   "id": "912b4e9c-0f20-453b-a1ca-e93bef2c12d1",
   "metadata": {},
   "outputs": [],
   "source": []
  },
  {
   "cell_type": "code",
   "execution_count": null,
   "id": "78d8aab1-2ab1-4648-9324-1e27f0c2c51e",
   "metadata": {},
   "outputs": [],
   "source": [
    "widgets.VBox([container, g])"
   ]
  },
  {
   "cell_type": "code",
   "execution_count": null,
   "id": "73ef4de7-cb8e-4fd2-96ed-7a8ef81152d3",
   "metadata": {},
   "outputs": [],
   "source": []
  }
 ],
 "metadata": {
  "kernelspec": {
   "display_name": "Python 3 (ipykernel)",
   "language": "python",
   "name": "python3"
  },
  "language_info": {
   "codemirror_mode": {
    "name": "ipython",
    "version": 3
   },
   "file_extension": ".py",
   "mimetype": "text/x-python",
   "name": "python",
   "nbconvert_exporter": "python",
   "pygments_lexer": "ipython3",
   "version": "3.8.10"
  }
 },
 "nbformat": 4,
 "nbformat_minor": 5
}
